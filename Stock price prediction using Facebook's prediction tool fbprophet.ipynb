{
 "cells": [
  {
   "cell_type": "code",
   "execution_count": 15,
   "id": "6563ec46",
   "metadata": {},
   "outputs": [
    {
     "name": "stdout",
     "output_type": "stream",
     "text": [
      "Requirement already satisfied: fbprophet in ./opt/anaconda3/envs/Python/lib/python3.8/site-packages (0.7.1)\n",
      "Requirement already satisfied: Cython>=0.22 in ./opt/anaconda3/envs/Python/lib/python3.8/site-packages (from fbprophet) (0.29.24)\n",
      "Requirement already satisfied: cmdstanpy==0.9.5 in ./opt/anaconda3/envs/Python/lib/python3.8/site-packages (from fbprophet) (0.9.5)\n",
      "Requirement already satisfied: pystan>=2.14 in ./opt/anaconda3/envs/Python/lib/python3.8/site-packages (from fbprophet) (2.19.1.1)\n",
      "Requirement already satisfied: numpy>=1.15.4 in ./opt/anaconda3/envs/Python/lib/python3.8/site-packages (from fbprophet) (1.21.4)\n",
      "Requirement already satisfied: pandas>=1.0.4 in ./opt/anaconda3/envs/Python/lib/python3.8/site-packages (from fbprophet) (1.3.4)\n",
      "Requirement already satisfied: matplotlib>=2.0.0 in ./opt/anaconda3/envs/Python/lib/python3.8/site-packages (from fbprophet) (3.4.3)\n",
      "Requirement already satisfied: LunarCalendar>=0.0.9 in ./opt/anaconda3/envs/Python/lib/python3.8/site-packages (from fbprophet) (0.0.9)\n",
      "Requirement already satisfied: convertdate>=2.1.2 in ./opt/anaconda3/envs/Python/lib/python3.8/site-packages (from fbprophet) (2.3.2)\n",
      "Requirement already satisfied: holidays>=0.10.2 in ./opt/anaconda3/envs/Python/lib/python3.8/site-packages (from fbprophet) (0.11.3.1)\n",
      "Requirement already satisfied: setuptools-git>=1.2 in ./opt/anaconda3/envs/Python/lib/python3.8/site-packages (from fbprophet) (1.2)\n",
      "Requirement already satisfied: python-dateutil>=2.8.0 in ./opt/anaconda3/envs/Python/lib/python3.8/site-packages (from fbprophet) (2.8.2)\n",
      "Requirement already satisfied: tqdm>=4.36.1 in ./opt/anaconda3/envs/Python/lib/python3.8/site-packages (from fbprophet) (4.62.3)\n",
      "Requirement already satisfied: pymeeus<=1,>=0.3.13 in ./opt/anaconda3/envs/Python/lib/python3.8/site-packages (from convertdate>=2.1.2->fbprophet) (0.5.11)\n",
      "Requirement already satisfied: pytz>=2014.10 in ./opt/anaconda3/envs/Python/lib/python3.8/site-packages (from convertdate>=2.1.2->fbprophet) (2021.3)\n",
      "Requirement already satisfied: hijri-converter in ./opt/anaconda3/envs/Python/lib/python3.8/site-packages (from holidays>=0.10.2->fbprophet) (2.2.2)\n",
      "Requirement already satisfied: korean-lunar-calendar in ./opt/anaconda3/envs/Python/lib/python3.8/site-packages (from holidays>=0.10.2->fbprophet) (0.2.1)\n",
      "Requirement already satisfied: ephem>=3.7.5.3 in ./opt/anaconda3/envs/Python/lib/python3.8/site-packages (from LunarCalendar>=0.0.9->fbprophet) (4.1)\n",
      "Requirement already satisfied: cycler>=0.10 in ./opt/anaconda3/envs/Python/lib/python3.8/site-packages (from matplotlib>=2.0.0->fbprophet) (0.11.0)\n",
      "Requirement already satisfied: pyparsing>=2.2.1 in ./opt/anaconda3/envs/Python/lib/python3.8/site-packages (from matplotlib>=2.0.0->fbprophet) (3.0.4)\n",
      "Requirement already satisfied: kiwisolver>=1.0.1 in ./opt/anaconda3/envs/Python/lib/python3.8/site-packages (from matplotlib>=2.0.0->fbprophet) (1.3.2)\n",
      "Requirement already satisfied: pillow>=6.2.0 in ./opt/anaconda3/envs/Python/lib/python3.8/site-packages (from matplotlib>=2.0.0->fbprophet) (8.4.0)\n",
      "Requirement already satisfied: six>=1.5 in ./opt/anaconda3/envs/Python/lib/python3.8/site-packages (from python-dateutil>=2.8.0->fbprophet) (1.16.0)\n",
      "Note: you may need to restart the kernel to use updated packages.\n"
     ]
    }
   ],
   "source": [
    "pip install fbprophet"
   ]
  },
  {
   "cell_type": "code",
   "execution_count": 16,
   "id": "860ab176",
   "metadata": {},
   "outputs": [],
   "source": [
    "import pandas_datareader.data as reader\n",
    "import datetime as dt\n",
    "import matplotlib.pyplot as plt\n",
    "import warnings\n",
    "warnings.simplefilter(action='ignore', category=FutureWarning)"
   ]
  },
  {
   "cell_type": "code",
   "execution_count": 66,
   "id": "faae87aa",
   "metadata": {},
   "outputs": [],
   "source": [
    "end = dt.datetime.now()\n",
    "start = dt.datetime(end.year - 20,end.month,end.day)"
   ]
  },
  {
   "cell_type": "code",
   "execution_count": 87,
   "id": "f0c8f33a",
   "metadata": {},
   "outputs": [],
   "source": [
    "df = reader.get_data_yahoo('GOOG',start,end)"
   ]
  },
  {
   "cell_type": "code",
   "execution_count": 88,
   "id": "d6a73da9",
   "metadata": {},
   "outputs": [
    {
     "data": {
      "text/html": [
       "<div>\n",
       "<style scoped>\n",
       "    .dataframe tbody tr th:only-of-type {\n",
       "        vertical-align: middle;\n",
       "    }\n",
       "\n",
       "    .dataframe tbody tr th {\n",
       "        vertical-align: top;\n",
       "    }\n",
       "\n",
       "    .dataframe thead th {\n",
       "        text-align: right;\n",
       "    }\n",
       "</style>\n",
       "<table border=\"1\" class=\"dataframe\">\n",
       "  <thead>\n",
       "    <tr style=\"text-align: right;\">\n",
       "      <th></th>\n",
       "      <th>High</th>\n",
       "      <th>Low</th>\n",
       "      <th>Open</th>\n",
       "      <th>Close</th>\n",
       "      <th>Volume</th>\n",
       "      <th>Adj Close</th>\n",
       "    </tr>\n",
       "    <tr>\n",
       "      <th>Date</th>\n",
       "      <th></th>\n",
       "      <th></th>\n",
       "      <th></th>\n",
       "      <th></th>\n",
       "      <th></th>\n",
       "      <th></th>\n",
       "    </tr>\n",
       "  </thead>\n",
       "  <tbody>\n",
       "    <tr>\n",
       "      <th>2004-08-19</th>\n",
       "      <td>51.835709</td>\n",
       "      <td>47.800831</td>\n",
       "      <td>49.813290</td>\n",
       "      <td>49.982655</td>\n",
       "      <td>44871361.0</td>\n",
       "      <td>49.982655</td>\n",
       "    </tr>\n",
       "    <tr>\n",
       "      <th>2004-08-20</th>\n",
       "      <td>54.336334</td>\n",
       "      <td>50.062355</td>\n",
       "      <td>50.316402</td>\n",
       "      <td>53.952770</td>\n",
       "      <td>22942874.0</td>\n",
       "      <td>53.952770</td>\n",
       "    </tr>\n",
       "    <tr>\n",
       "      <th>2004-08-23</th>\n",
       "      <td>56.528118</td>\n",
       "      <td>54.321388</td>\n",
       "      <td>55.168217</td>\n",
       "      <td>54.495735</td>\n",
       "      <td>18342897.0</td>\n",
       "      <td>54.495735</td>\n",
       "    </tr>\n",
       "    <tr>\n",
       "      <th>2004-08-24</th>\n",
       "      <td>55.591629</td>\n",
       "      <td>51.591621</td>\n",
       "      <td>55.412300</td>\n",
       "      <td>52.239197</td>\n",
       "      <td>15319808.0</td>\n",
       "      <td>52.239197</td>\n",
       "    </tr>\n",
       "    <tr>\n",
       "      <th>2004-08-25</th>\n",
       "      <td>53.798351</td>\n",
       "      <td>51.746044</td>\n",
       "      <td>52.284027</td>\n",
       "      <td>52.802086</td>\n",
       "      <td>9232276.0</td>\n",
       "      <td>52.802086</td>\n",
       "    </tr>\n",
       "    <tr>\n",
       "      <th>...</th>\n",
       "      <td>...</td>\n",
       "      <td>...</td>\n",
       "      <td>...</td>\n",
       "      <td>...</td>\n",
       "      <td>...</td>\n",
       "      <td>...</td>\n",
       "    </tr>\n",
       "    <tr>\n",
       "      <th>2021-11-04</th>\n",
       "      <td>2999.000000</td>\n",
       "      <td>2932.699951</td>\n",
       "      <td>2944.000000</td>\n",
       "      <td>2973.659912</td>\n",
       "      <td>1235000.0</td>\n",
       "      <td>2973.659912</td>\n",
       "    </tr>\n",
       "    <tr>\n",
       "      <th>2021-11-05</th>\n",
       "      <td>3011.415039</td>\n",
       "      <td>2973.040039</td>\n",
       "      <td>2987.070068</td>\n",
       "      <td>2984.820068</td>\n",
       "      <td>1019700.0</td>\n",
       "      <td>2984.820068</td>\n",
       "    </tr>\n",
       "    <tr>\n",
       "      <th>2021-11-08</th>\n",
       "      <td>3020.689941</td>\n",
       "      <td>2982.399902</td>\n",
       "      <td>3000.000000</td>\n",
       "      <td>2987.030029</td>\n",
       "      <td>919400.0</td>\n",
       "      <td>2987.030029</td>\n",
       "    </tr>\n",
       "    <tr>\n",
       "      <th>2021-11-09</th>\n",
       "      <td>3007.570068</td>\n",
       "      <td>2950.139893</td>\n",
       "      <td>2994.919922</td>\n",
       "      <td>2984.969971</td>\n",
       "      <td>843800.0</td>\n",
       "      <td>2984.969971</td>\n",
       "    </tr>\n",
       "    <tr>\n",
       "      <th>2021-11-10</th>\n",
       "      <td>2974.000000</td>\n",
       "      <td>2906.500000</td>\n",
       "      <td>2960.195068</td>\n",
       "      <td>2932.520020</td>\n",
       "      <td>1134400.0</td>\n",
       "      <td>2932.520020</td>\n",
       "    </tr>\n",
       "  </tbody>\n",
       "</table>\n",
       "<p>4339 rows × 6 columns</p>\n",
       "</div>"
      ],
      "text/plain": [
       "                   High          Low         Open        Close      Volume  \\\n",
       "Date                                                                         \n",
       "2004-08-19    51.835709    47.800831    49.813290    49.982655  44871361.0   \n",
       "2004-08-20    54.336334    50.062355    50.316402    53.952770  22942874.0   \n",
       "2004-08-23    56.528118    54.321388    55.168217    54.495735  18342897.0   \n",
       "2004-08-24    55.591629    51.591621    55.412300    52.239197  15319808.0   \n",
       "2004-08-25    53.798351    51.746044    52.284027    52.802086   9232276.0   \n",
       "...                 ...          ...          ...          ...         ...   \n",
       "2021-11-04  2999.000000  2932.699951  2944.000000  2973.659912   1235000.0   \n",
       "2021-11-05  3011.415039  2973.040039  2987.070068  2984.820068   1019700.0   \n",
       "2021-11-08  3020.689941  2982.399902  3000.000000  2987.030029    919400.0   \n",
       "2021-11-09  3007.570068  2950.139893  2994.919922  2984.969971    843800.0   \n",
       "2021-11-10  2974.000000  2906.500000  2960.195068  2932.520020   1134400.0   \n",
       "\n",
       "              Adj Close  \n",
       "Date                     \n",
       "2004-08-19    49.982655  \n",
       "2004-08-20    53.952770  \n",
       "2004-08-23    54.495735  \n",
       "2004-08-24    52.239197  \n",
       "2004-08-25    52.802086  \n",
       "...                 ...  \n",
       "2021-11-04  2973.659912  \n",
       "2021-11-05  2984.820068  \n",
       "2021-11-08  2987.030029  \n",
       "2021-11-09  2984.969971  \n",
       "2021-11-10  2932.520020  \n",
       "\n",
       "[4339 rows x 6 columns]"
      ]
     },
     "execution_count": 88,
     "metadata": {},
     "output_type": "execute_result"
    }
   ],
   "source": [
    "df"
   ]
  },
  {
   "cell_type": "code",
   "execution_count": 89,
   "id": "610d352e",
   "metadata": {},
   "outputs": [],
   "source": [
    "from fbprophet import Prophet"
   ]
  },
  {
   "cell_type": "code",
   "execution_count": 90,
   "id": "76a8d78a",
   "metadata": {},
   "outputs": [],
   "source": [
    "model = Prophet()"
   ]
  },
  {
   "cell_type": "code",
   "execution_count": 91,
   "id": "f7cd78f6",
   "metadata": {},
   "outputs": [],
   "source": [
    "df = df.reset_index()"
   ]
  },
  {
   "cell_type": "code",
   "execution_count": 92,
   "id": "9a614984",
   "metadata": {},
   "outputs": [],
   "source": [
    "df[['ds','y']] = df[['Date','Adj Close']]"
   ]
  },
  {
   "cell_type": "code",
   "execution_count": 93,
   "id": "0e72a317",
   "metadata": {},
   "outputs": [
    {
     "name": "stderr",
     "output_type": "stream",
     "text": [
      "INFO:fbprophet:Disabling daily seasonality. Run prophet with daily_seasonality=True to override this.\n"
     ]
    },
    {
     "name": "stdout",
     "output_type": "stream",
     "text": [
      "Initial log joint probability = -225.759\n"
     ]
    },
    {
     "data": {
      "text/plain": [
       "<fbprophet.forecaster.Prophet at 0x115760250>"
      ]
     },
     "execution_count": 93,
     "metadata": {},
     "output_type": "execute_result"
    },
    {
     "name": "stdout",
     "output_type": "stream",
     "text": [
      "    Iter      log prob        ||dx||      ||grad||       alpha      alpha0  # evals  Notes \n",
      "      99       11029.6     0.0411245       3833.63           1           1      119   \n",
      "    Iter      log prob        ||dx||      ||grad||       alpha      alpha0  # evals  Notes \n",
      "     199       11182.2    0.00980839       706.454           1           1      232   \n",
      "    Iter      log prob        ||dx||      ||grad||       alpha      alpha0  # evals  Notes \n",
      "     299       11220.5     0.0354803        766.83           1           1      346   \n",
      "    Iter      log prob        ||dx||      ||grad||       alpha      alpha0  # evals  Notes \n",
      "     399       11241.3    0.00746507       547.318           1           1      460   \n",
      "    Iter      log prob        ||dx||      ||grad||       alpha      alpha0  # evals  Notes \n",
      "     499       11251.6    0.00355118       381.788           1           1      585   \n",
      "    Iter      log prob        ||dx||      ||grad||       alpha      alpha0  # evals  Notes \n",
      "     517         11252   0.000219016        331.73   2.525e-06       0.001      644  LS failed, Hessian reset \n",
      "     559       11252.7   4.62591e-05       167.839   2.199e-07       0.001      739  LS failed, Hessian reset \n",
      "     599       11253.2   0.000274438       92.9281      0.4664      0.9045      789   \n",
      "    Iter      log prob        ||dx||      ||grad||       alpha      alpha0  # evals  Notes \n",
      "     699         11262    0.00188218       183.444      0.7758      0.7758      919   \n",
      "    Iter      log prob        ||dx||      ||grad||       alpha      alpha0  # evals  Notes \n",
      "     740       11268.8   0.000303711       434.548   1.352e-06       0.001     1003  LS failed, Hessian reset \n",
      "     799       11274.9   0.000335372       249.554      0.8936      0.8936     1068   \n",
      "    Iter      log prob        ||dx||      ||grad||       alpha      alpha0  # evals  Notes \n",
      "     825       11276.4   2.16754e-05       86.2181   2.066e-07       0.001     1146  LS failed, Hessian reset \n",
      "     899       11278.2   0.000207285       127.712           1           1     1239   \n",
      "    Iter      log prob        ||dx||      ||grad||       alpha      alpha0  # evals  Notes \n",
      "     984       11279.1   5.15847e-05       184.663   2.445e-07       0.001     1386  LS failed, Hessian reset \n",
      "     999       11279.3   9.59325e-05        85.876      0.7613      0.7613     1404   \n",
      "    Iter      log prob        ||dx||      ||grad||       alpha      alpha0  # evals  Notes \n",
      "    1062       11279.4   0.000145993       104.344   1.726e-06       0.001     1523  LS failed, Hessian reset \n",
      "    1099       11279.4    6.6921e-05       79.0195           1           1     1573   \n",
      "    Iter      log prob        ||dx||      ||grad||       alpha      alpha0  # evals  Notes \n",
      "    1199       11280.3    0.00039195       118.773      0.2993      0.2993     1694   \n",
      "    Iter      log prob        ||dx||      ||grad||       alpha      alpha0  # evals  Notes \n",
      "    1261       11280.4   7.32061e-05       170.769   8.033e-07       0.001     1806  LS failed, Hessian reset \n",
      "    1299       11280.5   0.000181633       74.7733           1           1     1849   \n",
      "    Iter      log prob        ||dx||      ||grad||       alpha      alpha0  # evals  Notes \n",
      "    1399       11280.9   0.000128683       71.5832           1           1     1971   \n",
      "    Iter      log prob        ||dx||      ||grad||       alpha      alpha0  # evals  Notes \n",
      "    1403       11280.9   1.74599e-05       53.2506   2.286e-07       0.001     2023  LS failed, Hessian reset \n",
      "    1417       11280.9   5.70782e-07        50.723      0.5323     0.05323     2046   \n",
      "Optimization terminated normally: \n",
      "  Convergence detected: relative gradient magnitude is below tolerance\n"
     ]
    }
   ],
   "source": [
    "model.fit(df)"
   ]
  },
  {
   "cell_type": "code",
   "execution_count": 94,
   "id": "84ceb678",
   "metadata": {},
   "outputs": [],
   "source": [
    "future = model.make_future_dataframe(periods=365)"
   ]
  },
  {
   "cell_type": "code",
   "execution_count": 95,
   "id": "53067c48",
   "metadata": {},
   "outputs": [],
   "source": [
    "forecast = model.predict(future)"
   ]
  },
  {
   "cell_type": "code",
   "execution_count": 96,
   "id": "18f2327d",
   "metadata": {},
   "outputs": [
    {
     "data": {
      "image/png": "[encoded data removed]",
      "text/plain": [
       "<Figure size 720x432 with 1 Axes>"
      ]
     },
     "metadata": {},
     "output_type": "display_data"
    }
   ],
   "source": [
    "model.plot(forecast)\n",
    "plt.show()"
   ]
  },
  {
   "cell_type": "code",
   "execution_count": null,
   "id": "3aa27d90",
   "metadata": {},
   "outputs": [],
   "source": []
  }
 ],
 "metadata": {
  "kernelspec": {
   "display_name": "Python 3 (ipykernel)",
   "language": "python",
   "name": "python3"
  },
  "language_info": {
   "codemirror_mode": {
    "name": "ipython",
    "version": 3
   },
   "file_extension": ".py",
   "mimetype": "text/x-python",
   "name": "python",
   "nbconvert_exporter": "python",
   "pygments_lexer": "ipython3",
   "version": "3.8.8"
  }
 },
 "nbformat": 4,
 "nbformat_minor": 5
}
