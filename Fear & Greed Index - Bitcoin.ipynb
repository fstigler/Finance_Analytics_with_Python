{
 "cells": [
  {
   "cell_type": "code",
   "execution_count": 1,
   "id": "597a39f6",
   "metadata": {},
   "outputs": [],
   "source": [
    "import requests\n",
    "import pandas as pd\n",
    "import numpy as np\n",
    "import yfinance as yf\n",
    "import matplotlib.pyplot as plt"
   ]
  },
  {
   "cell_type": "code",
   "execution_count": 2,
   "id": "26a0a48f",
   "metadata": {},
   "outputs": [],
   "source": [
    "r = requests.get('https://api.alternative.me/fng/?limit=0')"
   ]
  },
  {
   "cell_type": "code",
   "execution_count": 3,
   "id": "d3d8207c",
   "metadata": {},
   "outputs": [],
   "source": [
    "df = pd.DataFrame(r.json()['data'])"
   ]
  },
  {
   "cell_type": "code",
   "execution_count": 4,
   "id": "b76b63d2",
   "metadata": {},
   "outputs": [],
   "source": [
    "df.value = df.value.astype(int)"
   ]
  },
  {
   "cell_type": "code",
   "execution_count": 5,
   "id": "62bc5858",
   "metadata": {},
   "outputs": [],
   "source": [
    "df.timestamp = pd.to_datetime(df.timestamp, unit='s')"
   ]
  },
  {
   "cell_type": "code",
   "execution_count": 6,
   "id": "5800ebc3",
   "metadata": {},
   "outputs": [],
   "source": [
    "df.set_index('timestamp', inplace=True)"
   ]
  },
  {
   "cell_type": "code",
   "execution_count": 7,
   "id": "ddb9d345",
   "metadata": {},
   "outputs": [],
   "source": [
    "df = df[::-1]"
   ]
  },
  {
   "cell_type": "code",
   "execution_count": 8,
   "id": "6581e29e",
   "metadata": {},
   "outputs": [
    {
     "data": {
      "text/html": [
       "<div>\n",
       "<style scoped>\n",
       "    .dataframe tbody tr th:only-of-type {\n",
       "        vertical-align: middle;\n",
       "    }\n",
       "\n",
       "    .dataframe tbody tr th {\n",
       "        vertical-align: top;\n",
       "    }\n",
       "\n",
       "    .dataframe thead th {\n",
       "        text-align: right;\n",
       "    }\n",
       "</style>\n",
       "<table border=\"1\" class=\"dataframe\">\n",
       "  <thead>\n",
       "    <tr style=\"text-align: right;\">\n",
       "      <th></th>\n",
       "      <th>value</th>\n",
       "      <th>value_classification</th>\n",
       "      <th>time_until_update</th>\n",
       "    </tr>\n",
       "    <tr>\n",
       "      <th>timestamp</th>\n",
       "      <th></th>\n",
       "      <th></th>\n",
       "      <th></th>\n",
       "    </tr>\n",
       "  </thead>\n",
       "  <tbody>\n",
       "    <tr>\n",
       "      <th>2018-02-01</th>\n",
       "      <td>30</td>\n",
       "      <td>Fear</td>\n",
       "      <td>NaN</td>\n",
       "    </tr>\n",
       "    <tr>\n",
       "      <th>2018-02-02</th>\n",
       "      <td>15</td>\n",
       "      <td>Extreme Fear</td>\n",
       "      <td>NaN</td>\n",
       "    </tr>\n",
       "    <tr>\n",
       "      <th>2018-02-03</th>\n",
       "      <td>40</td>\n",
       "      <td>Fear</td>\n",
       "      <td>NaN</td>\n",
       "    </tr>\n",
       "    <tr>\n",
       "      <th>2018-02-04</th>\n",
       "      <td>24</td>\n",
       "      <td>Extreme Fear</td>\n",
       "      <td>NaN</td>\n",
       "    </tr>\n",
       "    <tr>\n",
       "      <th>2018-02-05</th>\n",
       "      <td>11</td>\n",
       "      <td>Extreme Fear</td>\n",
       "      <td>NaN</td>\n",
       "    </tr>\n",
       "    <tr>\n",
       "      <th>...</th>\n",
       "      <td>...</td>\n",
       "      <td>...</td>\n",
       "      <td>...</td>\n",
       "    </tr>\n",
       "    <tr>\n",
       "      <th>2022-04-07</th>\n",
       "      <td>34</td>\n",
       "      <td>Fear</td>\n",
       "      <td>NaN</td>\n",
       "    </tr>\n",
       "    <tr>\n",
       "      <th>2022-04-08</th>\n",
       "      <td>37</td>\n",
       "      <td>Fear</td>\n",
       "      <td>NaN</td>\n",
       "    </tr>\n",
       "    <tr>\n",
       "      <th>2022-04-09</th>\n",
       "      <td>30</td>\n",
       "      <td>Fear</td>\n",
       "      <td>NaN</td>\n",
       "    </tr>\n",
       "    <tr>\n",
       "      <th>2022-04-10</th>\n",
       "      <td>34</td>\n",
       "      <td>Fear</td>\n",
       "      <td>NaN</td>\n",
       "    </tr>\n",
       "    <tr>\n",
       "      <th>2022-04-11</th>\n",
       "      <td>32</td>\n",
       "      <td>Fear</td>\n",
       "      <td>19125</td>\n",
       "    </tr>\n",
       "  </tbody>\n",
       "</table>\n",
       "<p>1528 rows × 3 columns</p>\n",
       "</div>"
      ],
      "text/plain": [
       "            value value_classification time_until_update\n",
       "timestamp                                               \n",
       "2018-02-01     30                 Fear               NaN\n",
       "2018-02-02     15         Extreme Fear               NaN\n",
       "2018-02-03     40                 Fear               NaN\n",
       "2018-02-04     24         Extreme Fear               NaN\n",
       "2018-02-05     11         Extreme Fear               NaN\n",
       "...           ...                  ...               ...\n",
       "2022-04-07     34                 Fear               NaN\n",
       "2022-04-08     37                 Fear               NaN\n",
       "2022-04-09     30                 Fear               NaN\n",
       "2022-04-10     34                 Fear               NaN\n",
       "2022-04-11     32                 Fear             19125\n",
       "\n",
       "[1528 rows x 3 columns]"
      ]
     },
     "execution_count": 8,
     "metadata": {},
     "output_type": "execute_result"
    }
   ],
   "source": [
    "df"
   ]
  },
  {
   "cell_type": "code",
   "execution_count": 9,
   "id": "03762033",
   "metadata": {},
   "outputs": [
    {
     "name": "stdout",
     "output_type": "stream",
     "text": [
      "[*********************100%***********************]  1 of 1 completed\n"
     ]
    }
   ],
   "source": [
    "df1 = yf.download('BTC-USD')[['Close']]"
   ]
  },
  {
   "cell_type": "code",
   "execution_count": 10,
   "id": "eb830db1",
   "metadata": {},
   "outputs": [],
   "source": [
    "df1.index.name = 'timestamp'"
   ]
  },
  {
   "cell_type": "code",
   "execution_count": 11,
   "id": "39077a47",
   "metadata": {},
   "outputs": [],
   "source": [
    "tog = df.merge(df1, on='timestamp')"
   ]
  },
  {
   "cell_type": "code",
   "execution_count": 12,
   "id": "ffabc3d5",
   "metadata": {},
   "outputs": [
    {
     "data": {
      "text/html": [
       "<div>\n",
       "<style scoped>\n",
       "    .dataframe tbody tr th:only-of-type {\n",
       "        vertical-align: middle;\n",
       "    }\n",
       "\n",
       "    .dataframe tbody tr th {\n",
       "        vertical-align: top;\n",
       "    }\n",
       "\n",
       "    .dataframe thead th {\n",
       "        text-align: right;\n",
       "    }\n",
       "</style>\n",
       "<table border=\"1\" class=\"dataframe\">\n",
       "  <thead>\n",
       "    <tr style=\"text-align: right;\">\n",
       "      <th></th>\n",
       "      <th>value</th>\n",
       "      <th>value_classification</th>\n",
       "      <th>time_until_update</th>\n",
       "      <th>Close</th>\n",
       "    </tr>\n",
       "    <tr>\n",
       "      <th>timestamp</th>\n",
       "      <th></th>\n",
       "      <th></th>\n",
       "      <th></th>\n",
       "      <th></th>\n",
       "    </tr>\n",
       "  </thead>\n",
       "  <tbody>\n",
       "    <tr>\n",
       "      <th>2018-02-01</th>\n",
       "      <td>30</td>\n",
       "      <td>Fear</td>\n",
       "      <td>NaN</td>\n",
       "      <td>9170.540039</td>\n",
       "    </tr>\n",
       "    <tr>\n",
       "      <th>2018-02-02</th>\n",
       "      <td>15</td>\n",
       "      <td>Extreme Fear</td>\n",
       "      <td>NaN</td>\n",
       "      <td>8830.750000</td>\n",
       "    </tr>\n",
       "    <tr>\n",
       "      <th>2018-02-03</th>\n",
       "      <td>40</td>\n",
       "      <td>Fear</td>\n",
       "      <td>NaN</td>\n",
       "      <td>9174.910156</td>\n",
       "    </tr>\n",
       "    <tr>\n",
       "      <th>2018-02-04</th>\n",
       "      <td>24</td>\n",
       "      <td>Extreme Fear</td>\n",
       "      <td>NaN</td>\n",
       "      <td>8277.009766</td>\n",
       "    </tr>\n",
       "    <tr>\n",
       "      <th>2018-02-05</th>\n",
       "      <td>11</td>\n",
       "      <td>Extreme Fear</td>\n",
       "      <td>NaN</td>\n",
       "      <td>6955.270020</td>\n",
       "    </tr>\n",
       "    <tr>\n",
       "      <th>...</th>\n",
       "      <td>...</td>\n",
       "      <td>...</td>\n",
       "      <td>...</td>\n",
       "      <td>...</td>\n",
       "    </tr>\n",
       "    <tr>\n",
       "      <th>2022-04-07</th>\n",
       "      <td>34</td>\n",
       "      <td>Fear</td>\n",
       "      <td>NaN</td>\n",
       "      <td>43503.847656</td>\n",
       "    </tr>\n",
       "    <tr>\n",
       "      <th>2022-04-08</th>\n",
       "      <td>37</td>\n",
       "      <td>Fear</td>\n",
       "      <td>NaN</td>\n",
       "      <td>42287.664062</td>\n",
       "    </tr>\n",
       "    <tr>\n",
       "      <th>2022-04-09</th>\n",
       "      <td>30</td>\n",
       "      <td>Fear</td>\n",
       "      <td>NaN</td>\n",
       "      <td>42782.136719</td>\n",
       "    </tr>\n",
       "    <tr>\n",
       "      <th>2022-04-10</th>\n",
       "      <td>34</td>\n",
       "      <td>Fear</td>\n",
       "      <td>NaN</td>\n",
       "      <td>42207.671875</td>\n",
       "    </tr>\n",
       "    <tr>\n",
       "      <th>2022-04-11</th>\n",
       "      <td>32</td>\n",
       "      <td>Fear</td>\n",
       "      <td>19125</td>\n",
       "      <td>40430.972656</td>\n",
       "    </tr>\n",
       "  </tbody>\n",
       "</table>\n",
       "<p>1528 rows × 4 columns</p>\n",
       "</div>"
      ],
      "text/plain": [
       "            value value_classification time_until_update         Close\n",
       "timestamp                                                             \n",
       "2018-02-01     30                 Fear               NaN   9170.540039\n",
       "2018-02-02     15         Extreme Fear               NaN   8830.750000\n",
       "2018-02-03     40                 Fear               NaN   9174.910156\n",
       "2018-02-04     24         Extreme Fear               NaN   8277.009766\n",
       "2018-02-05     11         Extreme Fear               NaN   6955.270020\n",
       "...           ...                  ...               ...           ...\n",
       "2022-04-07     34                 Fear               NaN  43503.847656\n",
       "2022-04-08     37                 Fear               NaN  42287.664062\n",
       "2022-04-09     30                 Fear               NaN  42782.136719\n",
       "2022-04-10     34                 Fear               NaN  42207.671875\n",
       "2022-04-11     32                 Fear             19125  40430.972656\n",
       "\n",
       "[1528 rows x 4 columns]"
      ]
     },
     "execution_count": 12,
     "metadata": {},
     "output_type": "execute_result"
    }
   ],
   "source": [
    "tog"
   ]
  },
  {
   "cell_type": "code",
   "execution_count": 13,
   "id": "5a291d74",
   "metadata": {},
   "outputs": [],
   "source": [
    "tog['change'] = tog.Close.pct_change()"
   ]
  },
  {
   "cell_type": "code",
   "execution_count": 14,
   "id": "51e07964",
   "metadata": {},
   "outputs": [],
   "source": [
    "tog['position'] = np.where(tog.value > 50, 1, 0)"
   ]
  },
  {
   "cell_type": "code",
   "execution_count": 15,
   "id": "6b3b914d",
   "metadata": {},
   "outputs": [],
   "source": [
    "strategy = tog.position * tog.change"
   ]
  },
  {
   "cell_type": "code",
   "execution_count": 16,
   "id": "635393ac",
   "metadata": {},
   "outputs": [
    {
     "data": {
      "text/plain": [
       "<matplotlib.legend.Legend at 0x110092f40>"
      ]
     },
     "execution_count": 16,
     "metadata": {},
     "output_type": "execute_result"
    },
    {
     "data": {
      "image/png": "[encoded data removed]",
      "text/plain": [
       "<Figure size 1440x720 with 1 Axes>"
      ]
     },
     "metadata": {
      "needs_background": "light"
     },
     "output_type": "display_data"
    }
   ],
   "source": [
    "plt.figure(figsize=(20,10))\n",
    "plt.plot((strategy + 1).cumprod(), label='F&G')\n",
    "plt.plot((tog.change + 1).cumprod(), label='BTC')\n",
    "plt.legend()"
   ]
  }
 ],
 "metadata": {
  "kernelspec": {
   "display_name": "Python 3 (ipykernel)",
   "language": "python",
   "name": "python3"
  },
  "language_info": {
   "codemirror_mode": {
    "name": "ipython",
    "version": 3
   },
   "file_extension": ".py",
   "mimetype": "text/x-python",
   "name": "python",
   "nbconvert_exporter": "python",
   "pygments_lexer": "ipython3",
   "version": "3.9.7"
  }
 },
 "nbformat": 4,
 "nbformat_minor": 5
}
