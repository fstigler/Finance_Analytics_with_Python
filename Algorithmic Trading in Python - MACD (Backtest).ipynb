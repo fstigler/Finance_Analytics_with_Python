{
 "cells": [
  {
   "cell_type": "code",
   "execution_count": 1,
   "id": "e9abffa4",
   "metadata": {},
   "outputs": [],
   "source": [
    "import yfinance as yf\n",
    "import matplotlib.pyplot as plt\n",
    "import pandas as pd"
   ]
  },
  {
   "cell_type": "code",
   "execution_count": 2,
   "id": "e3b68eb3",
   "metadata": {},
   "outputs": [
    {
     "name": "stdout",
     "output_type": "stream",
     "text": [
      "[*********************100%***********************]  1 of 1 completed\n"
     ]
    }
   ],
   "source": [
    "df = yf.download('TSLA', start = '2020-01-01')"
   ]
  },
  {
   "cell_type": "code",
   "execution_count": 3,
   "id": "b1fb095c",
   "metadata": {},
   "outputs": [],
   "source": [
    "def MACD(df):\n",
    "    df['EMA12'] = df.Close.ewm(span=12).mean()\n",
    "    df['EMA26'] = df.Close.ewm(span=26).mean()\n",
    "    df['MACD'] = df.EMA12 - df.EMA26\n",
    "    df['signal'] = df.MACD.ewm(span=9).mean()\n",
    "    print('indicators added')"
   ]
  },
  {
   "cell_type": "code",
   "execution_count": 4,
   "id": "5f0efba6",
   "metadata": {},
   "outputs": [
    {
     "name": "stdout",
     "output_type": "stream",
     "text": [
      "indicators added\n"
     ]
    }
   ],
   "source": [
    "MACD(df)"
   ]
  },
  {
   "cell_type": "code",
   "execution_count": 5,
   "id": "4c342c56",
   "metadata": {},
   "outputs": [
    {
     "data": {
      "text/html": [
       "<div>\n",
       "<style scoped>\n",
       "    .dataframe tbody tr th:only-of-type {\n",
       "        vertical-align: middle;\n",
       "    }\n",
       "\n",
       "    .dataframe tbody tr th {\n",
       "        vertical-align: top;\n",
       "    }\n",
       "\n",
       "    .dataframe thead th {\n",
       "        text-align: right;\n",
       "    }\n",
       "</style>\n",
       "<table border=\"1\" class=\"dataframe\">\n",
       "  <thead>\n",
       "    <tr style=\"text-align: right;\">\n",
       "      <th></th>\n",
       "      <th>Open</th>\n",
       "      <th>High</th>\n",
       "      <th>Low</th>\n",
       "      <th>Close</th>\n",
       "      <th>Adj Close</th>\n",
       "      <th>Volume</th>\n",
       "      <th>EMA12</th>\n",
       "      <th>EMA26</th>\n",
       "      <th>MACD</th>\n",
       "      <th>signal</th>\n",
       "    </tr>\n",
       "    <tr>\n",
       "      <th>Date</th>\n",
       "      <th></th>\n",
       "      <th></th>\n",
       "      <th></th>\n",
       "      <th></th>\n",
       "      <th></th>\n",
       "      <th></th>\n",
       "      <th></th>\n",
       "      <th></th>\n",
       "      <th></th>\n",
       "      <th></th>\n",
       "    </tr>\n",
       "  </thead>\n",
       "  <tbody>\n",
       "    <tr>\n",
       "      <th>2019-12-31</th>\n",
       "      <td>81.000000</td>\n",
       "      <td>84.258003</td>\n",
       "      <td>80.416000</td>\n",
       "      <td>83.666000</td>\n",
       "      <td>83.666000</td>\n",
       "      <td>51428500</td>\n",
       "      <td>83.666000</td>\n",
       "      <td>83.666000</td>\n",
       "      <td>0.000000</td>\n",
       "      <td>0.000000</td>\n",
       "    </tr>\n",
       "    <tr>\n",
       "      <th>2020-01-02</th>\n",
       "      <td>84.900002</td>\n",
       "      <td>86.139999</td>\n",
       "      <td>84.342003</td>\n",
       "      <td>86.052002</td>\n",
       "      <td>86.052002</td>\n",
       "      <td>47660500</td>\n",
       "      <td>84.958418</td>\n",
       "      <td>84.904886</td>\n",
       "      <td>0.053532</td>\n",
       "      <td>0.029740</td>\n",
       "    </tr>\n",
       "    <tr>\n",
       "      <th>2020-01-03</th>\n",
       "      <td>88.099998</td>\n",
       "      <td>90.800003</td>\n",
       "      <td>87.384003</td>\n",
       "      <td>88.601997</td>\n",
       "      <td>88.601997</td>\n",
       "      <td>88892500</td>\n",
       "      <td>86.380508</td>\n",
       "      <td>86.233222</td>\n",
       "      <td>0.147286</td>\n",
       "      <td>0.077914</td>\n",
       "    </tr>\n",
       "    <tr>\n",
       "      <th>2020-01-06</th>\n",
       "      <td>88.094002</td>\n",
       "      <td>90.311996</td>\n",
       "      <td>88.000000</td>\n",
       "      <td>90.307999</td>\n",
       "      <td>90.307999</td>\n",
       "      <td>50665000</td>\n",
       "      <td>87.620263</td>\n",
       "      <td>87.372352</td>\n",
       "      <td>0.247912</td>\n",
       "      <td>0.135502</td>\n",
       "    </tr>\n",
       "    <tr>\n",
       "      <th>2020-01-07</th>\n",
       "      <td>92.279999</td>\n",
       "      <td>94.325996</td>\n",
       "      <td>90.671997</td>\n",
       "      <td>93.811996</td>\n",
       "      <td>93.811996</td>\n",
       "      <td>89410500</td>\n",
       "      <td>89.302535</td>\n",
       "      <td>88.865732</td>\n",
       "      <td>0.436803</td>\n",
       "      <td>0.225132</td>\n",
       "    </tr>\n",
       "    <tr>\n",
       "      <th>...</th>\n",
       "      <td>...</td>\n",
       "      <td>...</td>\n",
       "      <td>...</td>\n",
       "      <td>...</td>\n",
       "      <td>...</td>\n",
       "      <td>...</td>\n",
       "      <td>...</td>\n",
       "      <td>...</td>\n",
       "      <td>...</td>\n",
       "      <td>...</td>\n",
       "    </tr>\n",
       "    <tr>\n",
       "      <th>2021-11-29</th>\n",
       "      <td>1100.989990</td>\n",
       "      <td>1142.670044</td>\n",
       "      <td>1100.189941</td>\n",
       "      <td>1136.989990</td>\n",
       "      <td>1136.989990</td>\n",
       "      <td>19464500</td>\n",
       "      <td>1104.046738</td>\n",
       "      <td>1063.635154</td>\n",
       "      <td>40.411584</td>\n",
       "      <td>49.022207</td>\n",
       "    </tr>\n",
       "    <tr>\n",
       "      <th>2021-11-30</th>\n",
       "      <td>1144.369995</td>\n",
       "      <td>1168.000000</td>\n",
       "      <td>1118.000000</td>\n",
       "      <td>1144.760010</td>\n",
       "      <td>1144.760010</td>\n",
       "      <td>27092000</td>\n",
       "      <td>1110.310318</td>\n",
       "      <td>1069.644403</td>\n",
       "      <td>40.665915</td>\n",
       "      <td>47.350949</td>\n",
       "    </tr>\n",
       "    <tr>\n",
       "      <th>2021-12-01</th>\n",
       "      <td>1160.699951</td>\n",
       "      <td>1172.839966</td>\n",
       "      <td>1090.760010</td>\n",
       "      <td>1095.000000</td>\n",
       "      <td>1095.000000</td>\n",
       "      <td>22816800</td>\n",
       "      <td>1107.954884</td>\n",
       "      <td>1071.522595</td>\n",
       "      <td>36.432289</td>\n",
       "      <td>45.167217</td>\n",
       "    </tr>\n",
       "    <tr>\n",
       "      <th>2021-12-02</th>\n",
       "      <td>1099.060059</td>\n",
       "      <td>1113.000000</td>\n",
       "      <td>1056.650024</td>\n",
       "      <td>1084.599976</td>\n",
       "      <td>1084.599976</td>\n",
       "      <td>24371600</td>\n",
       "      <td>1104.361822</td>\n",
       "      <td>1072.491290</td>\n",
       "      <td>31.870532</td>\n",
       "      <td>42.507880</td>\n",
       "    </tr>\n",
       "    <tr>\n",
       "      <th>2021-12-03</th>\n",
       "      <td>1084.790039</td>\n",
       "      <td>1090.579956</td>\n",
       "      <td>1000.210022</td>\n",
       "      <td>1014.969971</td>\n",
       "      <td>1014.969971</td>\n",
       "      <td>30696300</td>\n",
       "      <td>1090.609229</td>\n",
       "      <td>1068.230451</td>\n",
       "      <td>22.378778</td>\n",
       "      <td>38.482059</td>\n",
       "    </tr>\n",
       "  </tbody>\n",
       "</table>\n",
       "<p>487 rows × 10 columns</p>\n",
       "</div>"
      ],
      "text/plain": [
       "                   Open         High          Low        Close    Adj Close  \\\n",
       "Date                                                                          \n",
       "2019-12-31    81.000000    84.258003    80.416000    83.666000    83.666000   \n",
       "2020-01-02    84.900002    86.139999    84.342003    86.052002    86.052002   \n",
       "2020-01-03    88.099998    90.800003    87.384003    88.601997    88.601997   \n",
       "2020-01-06    88.094002    90.311996    88.000000    90.307999    90.307999   \n",
       "2020-01-07    92.279999    94.325996    90.671997    93.811996    93.811996   \n",
       "...                 ...          ...          ...          ...          ...   \n",
       "2021-11-29  1100.989990  1142.670044  1100.189941  1136.989990  1136.989990   \n",
       "2021-11-30  1144.369995  1168.000000  1118.000000  1144.760010  1144.760010   \n",
       "2021-12-01  1160.699951  1172.839966  1090.760010  1095.000000  1095.000000   \n",
       "2021-12-02  1099.060059  1113.000000  1056.650024  1084.599976  1084.599976   \n",
       "2021-12-03  1084.790039  1090.579956  1000.210022  1014.969971  1014.969971   \n",
       "\n",
       "              Volume        EMA12        EMA26       MACD     signal  \n",
       "Date                                                                  \n",
       "2019-12-31  51428500    83.666000    83.666000   0.000000   0.000000  \n",
       "2020-01-02  47660500    84.958418    84.904886   0.053532   0.029740  \n",
       "2020-01-03  88892500    86.380508    86.233222   0.147286   0.077914  \n",
       "2020-01-06  50665000    87.620263    87.372352   0.247912   0.135502  \n",
       "2020-01-07  89410500    89.302535    88.865732   0.436803   0.225132  \n",
       "...              ...          ...          ...        ...        ...  \n",
       "2021-11-29  19464500  1104.046738  1063.635154  40.411584  49.022207  \n",
       "2021-11-30  27092000  1110.310318  1069.644403  40.665915  47.350949  \n",
       "2021-12-01  22816800  1107.954884  1071.522595  36.432289  45.167217  \n",
       "2021-12-02  24371600  1104.361822  1072.491290  31.870532  42.507880  \n",
       "2021-12-03  30696300  1090.609229  1068.230451  22.378778  38.482059  \n",
       "\n",
       "[487 rows x 10 columns]"
      ]
     },
     "execution_count": 5,
     "metadata": {},
     "output_type": "execute_result"
    }
   ],
   "source": [
    "df"
   ]
  },
  {
   "cell_type": "code",
   "execution_count": 6,
   "id": "967273b8",
   "metadata": {},
   "outputs": [
    {
     "data": {
      "image/png": "[encoded data removed]",
      "text/plain": [
       "<Figure size 432x288 with 1 Axes>"
      ]
     },
     "metadata": {
      "needs_background": "light"
     },
     "output_type": "display_data"
    }
   ],
   "source": [
    "plt.plot(df.signal, label='signal', color='red')\n",
    "plt.plot(df.MACD, label='MACD', color ='green')\n",
    "plt.legend()\n",
    "plt.show()"
   ]
  },
  {
   "cell_type": "code",
   "execution_count": 7,
   "id": "3f8b8d43",
   "metadata": {},
   "outputs": [],
   "source": [
    "Buy, Sell = [],[]\n",
    "\n",
    "for i in range(2, len(df)):\n",
    "    if df.MACD.iloc[i] > df.signal.iloc[i] and df.MACD.iloc[i-1] < df.signal.iloc[i-1]:\n",
    "        Buy.append(i)\n",
    "    elif df.MACD.iloc[i] < df.signal.iloc[i] and df.MACD.iloc[i-1] > df.signal.iloc[i-1]:\n",
    "        Sell.append(i)"
   ]
  },
  {
   "cell_type": "code",
   "execution_count": 8,
   "id": "c3848371",
   "metadata": {},
   "outputs": [
    {
     "data": {
      "image/png": "[encoded data removed]",
      "text/plain": [
       "<Figure size 864x288 with 1 Axes>"
      ]
     },
     "metadata": {
      "needs_background": "light"
     },
     "output_type": "display_data"
    }
   ],
   "source": [
    "plt.figure(figsize=(12,4))\n",
    "plt.scatter(df.iloc[Buy].index, df.iloc[Buy].Close, marker='^', color ='green')\n",
    "plt.scatter(df.iloc[Sell].index, df.iloc[Sell].Close, marker='v', color ='red')\n",
    "plt.plot(df.Close, label ='TSLA Close', color='k')\n",
    "plt.legend()\n",
    "plt.show()"
   ]
  },
  {
   "cell_type": "code",
   "execution_count": 9,
   "id": "7056cdc3",
   "metadata": {},
   "outputs": [],
   "source": [
    "Realbuys = [i+1 for i in Buy]\n",
    "Realsells = [i+1 for i in Sell]"
   ]
  },
  {
   "cell_type": "code",
   "execution_count": 10,
   "id": "8f94fcde",
   "metadata": {},
   "outputs": [],
   "source": [
    "Buyprices = df.Open.iloc[Realbuys]\n",
    "Sellprices = df.Open.iloc[Realsells]"
   ]
  },
  {
   "cell_type": "code",
   "execution_count": 11,
   "id": "858b95f8",
   "metadata": {},
   "outputs": [
    {
     "data": {
      "text/plain": [
       "Date\n",
       "2020-03-27    101.000000\n",
       "2020-06-03    177.623993\n",
       "2020-07-02    244.296005\n",
       "2020-08-18    379.798004\n",
       "2020-10-14    449.779999\n",
       "2020-11-09    439.500000\n",
       "2020-11-18    448.350006\n",
       "2020-12-18    668.900024\n",
       "2021-01-05    723.659973\n",
       "2021-03-15    694.090027\n",
       "2021-04-01    688.369995\n",
       "2021-05-27    620.239990\n",
       "2021-07-13    686.320007\n",
       "2021-08-02    700.000000\n",
       "2021-08-31    733.000000\n",
       "2021-09-28    787.200012\n",
       "2021-10-08    796.210022\n",
       "2021-10-13    810.469971\n",
       "Name: Open, dtype: float64"
      ]
     },
     "execution_count": 11,
     "metadata": {},
     "output_type": "execute_result"
    }
   ],
   "source": [
    "Buyprices"
   ]
  },
  {
   "cell_type": "code",
   "execution_count": 12,
   "id": "bb09bc09",
   "metadata": {},
   "outputs": [],
   "source": [
    "if Sellprices.index[0] < Buyprices.index[0]:\n",
    "    Sellprices = Sellprices.drop(Sellprices.index[0])\n",
    "elif Buyprices.index[-1] > Sellprices.index[-1]:\n",
    "    Buyprices = Buyprices.drop(Buyprices.index[-1])"
   ]
  },
  {
   "cell_type": "code",
   "execution_count": 13,
   "id": "34fa8d27",
   "metadata": {},
   "outputs": [],
   "source": [
    "profitsrel = []\n",
    "for i in range(len(Sellprices)):\n",
    "    profitsrel.append((Sellprices[i] - Buyprices[i])/Buyprices[i])"
   ]
  },
  {
   "cell_type": "code",
   "execution_count": 14,
   "id": "9e8ad974",
   "metadata": {},
   "outputs": [
    {
     "data": {
      "text/plain": [
       "0    0.078199\n",
       "dtype: float64"
      ]
     },
     "execution_count": 14,
     "metadata": {},
     "output_type": "execute_result"
    }
   ],
   "source": [
    "pd.DataFrame(profitsrel).mean()"
   ]
  },
  {
   "cell_type": "code",
   "execution_count": null,
   "id": "4a6cc761",
   "metadata": {},
   "outputs": [],
   "source": []
  }
 ],
 "metadata": {
  "kernelspec": {
   "display_name": "Python 3 (ipykernel)",
   "language": "python",
   "name": "python3"
  },
  "language_info": {
   "codemirror_mode": {
    "name": "ipython",
    "version": 3
   },
   "file_extension": ".py",
   "mimetype": "text/x-python",
   "name": "python",
   "nbconvert_exporter": "python",
   "pygments_lexer": "ipython3",
   "version": "3.9.7"
  }
 },
 "nbformat": 4,
 "nbformat_minor": 5
}
