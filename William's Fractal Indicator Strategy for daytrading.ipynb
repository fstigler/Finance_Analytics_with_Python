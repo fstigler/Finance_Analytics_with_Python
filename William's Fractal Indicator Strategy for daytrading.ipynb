{
 "cells": [
  {
   "cell_type": "code",
   "execution_count": 2,
   "id": "356a85b1",
   "metadata": {},
   "outputs": [],
   "source": [
    "import yfinance as yf\n",
    "import pandas as pd\n",
    "import numpy as np\n",
    "import ta"
   ]
  },
  {
   "cell_type": "code",
   "execution_count": 3,
   "id": "dae0fcfb",
   "metadata": {},
   "outputs": [
    {
     "name": "stdout",
     "output_type": "stream",
     "text": [
      "[*********************100%***********************]  1 of 1 completed\n"
     ]
    }
   ],
   "source": [
    "df = yf.download('TSLA', start ='2021-11-22', interval='15m')"
   ]
  },
  {
   "cell_type": "code",
   "execution_count": 5,
   "id": "3565be09",
   "metadata": {},
   "outputs": [],
   "source": [
    "df['EMA200'] = ta.trend.ema_indicator(df.Close, window=200)"
   ]
  },
  {
   "cell_type": "code",
   "execution_count": 7,
   "id": "e32bef79",
   "metadata": {},
   "outputs": [
    {
     "data": {
      "text/plain": [
       "Datetime\n",
       "2021-11-22 09:30:00-05:00            NaN\n",
       "2021-11-22 09:45:00-05:00    1193.670044\n",
       "2021-11-22 10:00:00-05:00    1194.660034\n",
       "2021-11-22 10:15:00-05:00    1199.750000\n",
       "2021-11-22 10:30:00-05:00            NaN\n",
       "Name: High, dtype: float64"
      ]
     },
     "execution_count": 7,
     "metadata": {},
     "output_type": "execute_result"
    }
   ],
   "source": []
  },
  {
   "cell_type": "code",
   "execution_count": 9,
   "id": "3b96e55d",
   "metadata": {},
   "outputs": [],
   "source": [
    "df['wf_Top_bool'] = np.where(\n",
    "df['High'] == df['High'].rolling(9, center=True).max(), True, False)"
   ]
  },
  {
   "cell_type": "code",
   "execution_count": 11,
   "id": "b4213407",
   "metadata": {},
   "outputs": [],
   "source": [
    "df['wf_Top'] = np.where(\n",
    "df['High'] == df['High'].rolling(9, center=True).max(), df['High'], None)"
   ]
  },
  {
   "cell_type": "code",
   "execution_count": 13,
   "id": "33b01f27",
   "metadata": {},
   "outputs": [],
   "source": [
    "df['wf_Top'] = df['wf_Top'].ffill()"
   ]
  },
  {
   "cell_type": "code",
   "execution_count": 14,
   "id": "73485bd0",
   "metadata": {},
   "outputs": [],
   "source": [
    "df.dropna(inplace=True)"
   ]
  },
  {
   "cell_type": "code",
   "execution_count": 15,
   "id": "525b014b",
   "metadata": {},
   "outputs": [],
   "source": [
    "df['Buy'] = np.where((df.Close > df.wf_Top) & (df.Close > df.EMA200), 1, 0)"
   ]
  },
  {
   "cell_type": "code",
   "execution_count": 16,
   "id": "f90b2b54",
   "metadata": {},
   "outputs": [],
   "source": [
    "df['SL'] = np.where(df.Buy ==1, df.Close - (df.Close - df.Low), 0)"
   ]
  },
  {
   "cell_type": "code",
   "execution_count": 17,
   "id": "101bbc97",
   "metadata": {},
   "outputs": [],
   "source": [
    "df['TP'] = np.where(df.Buy ==1, df.Close + (df.Close - df.Low) * 1.5, 0)"
   ]
  },
  {
   "cell_type": "code",
   "execution_count": 22,
   "id": "290f7cc5",
   "metadata": {},
   "outputs": [],
   "source": [
    "buys, sells = [],[]\n",
    "\n",
    "for i in range(len(df)):\n",
    "    if df.Buy.iloc[i]:\n",
    "        buys.append(df.iloc[i].name)\n",
    "        for j in range(len(df) - i):\n",
    "            if df.TP.iloc[i] < df.Close.iloc[i + j] or \\\n",
    "            df.SL.iloc[i] > df.Close.iloc[i + j]:\n",
    "                sells.append(df.iloc[i + j].name)\n",
    "                break"
   ]
  },
  {
   "cell_type": "code",
   "execution_count": 25,
   "id": "fd0d0e29",
   "metadata": {},
   "outputs": [],
   "source": [
    "frame = pd.DataFrame([buys, sells]).T.dropna()"
   ]
  },
  {
   "cell_type": "code",
   "execution_count": 27,
   "id": "cb20e224",
   "metadata": {},
   "outputs": [],
   "source": [
    "frame.columns = ['Buys', 'Sells']"
   ]
  },
  {
   "cell_type": "code",
   "execution_count": 32,
   "id": "616c8f0d",
   "metadata": {},
   "outputs": [],
   "source": [
    "actualtrades = frame[frame.Buys > frame.Sells.shift(1)]"
   ]
  },
  {
   "cell_type": "code",
   "execution_count": 33,
   "id": "bd8e04f3",
   "metadata": {},
   "outputs": [
    {
     "data": {
      "text/html": [
       "<div>\n",
       "<style scoped>\n",
       "    .dataframe tbody tr th:only-of-type {\n",
       "        vertical-align: middle;\n",
       "    }\n",
       "\n",
       "    .dataframe tbody tr th {\n",
       "        vertical-align: top;\n",
       "    }\n",
       "\n",
       "    .dataframe thead th {\n",
       "        text-align: right;\n",
       "    }\n",
       "</style>\n",
       "<table border=\"1\" class=\"dataframe\">\n",
       "  <thead>\n",
       "    <tr style=\"text-align: right;\">\n",
       "      <th></th>\n",
       "      <th>Buys</th>\n",
       "      <th>Sells</th>\n",
       "    </tr>\n",
       "  </thead>\n",
       "  <tbody>\n",
       "    <tr>\n",
       "      <th>1</th>\n",
       "      <td>2021-12-22 09:30:00-05:00</td>\n",
       "      <td>2021-12-23 10:00:00-05:00</td>\n",
       "    </tr>\n",
       "    <tr>\n",
       "      <th>15</th>\n",
       "      <td>2021-12-27 09:30:00-05:00</td>\n",
       "      <td>2021-12-27 12:00:00-05:00</td>\n",
       "    </tr>\n",
       "  </tbody>\n",
       "</table>\n",
       "</div>"
      ],
      "text/plain": [
       "                        Buys                     Sells\n",
       "1  2021-12-22 09:30:00-05:00 2021-12-23 10:00:00-05:00\n",
       "15 2021-12-27 09:30:00-05:00 2021-12-27 12:00:00-05:00"
      ]
     },
     "execution_count": 33,
     "metadata": {},
     "output_type": "execute_result"
    }
   ],
   "source": [
    "actualtrades"
   ]
  },
  {
   "cell_type": "code",
   "execution_count": 34,
   "id": "b31303e9",
   "metadata": {},
   "outputs": [],
   "source": [
    "profits = (df.loc[actualstrades.Sells].Close.values - \\\n",
    "           df.loc[actualstrades.Buys].Close.values) / df.loc[actualtrades.Buys].Close.values"
   ]
  },
  {
   "cell_type": "code",
   "execution_count": 35,
   "id": "92dc102d",
   "metadata": {},
   "outputs": [
    {
     "data": {
      "text/plain": [
       "array([0.03684388, 0.02166766])"
      ]
     },
     "execution_count": 35,
     "metadata": {},
     "output_type": "execute_result"
    }
   ],
   "source": [
    "profits"
   ]
  },
  {
   "cell_type": "code",
   "execution_count": null,
   "id": "01949eac",
   "metadata": {},
   "outputs": [],
   "source": []
  }
 ],
 "metadata": {
  "kernelspec": {
   "display_name": "Python 3 (ipykernel)",
   "language": "python",
   "name": "python3"
  },
  "language_info": {
   "codemirror_mode": {
    "name": "ipython",
    "version": 3
   },
   "file_extension": ".py",
   "mimetype": "text/x-python",
   "name": "python",
   "nbconvert_exporter": "python",
   "pygments_lexer": "ipython3",
   "version": "3.9.7"
  }
 },
 "nbformat": 4,
 "nbformat_minor": 5
}
