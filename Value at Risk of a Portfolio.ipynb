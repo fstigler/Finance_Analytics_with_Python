{
 "cells": [
  {
   "cell_type": "code",
   "execution_count": 2,
   "id": "fab142be",
   "metadata": {},
   "outputs": [],
   "source": [
    "import scipy.stats\n",
    "import numpy as np"
   ]
  },
  {
   "cell_type": "code",
   "execution_count": 3,
   "id": "f7893b35",
   "metadata": {},
   "outputs": [
    {
     "data": {
      "text/plain": [
       "1.6448536269514722"
      ]
     },
     "execution_count": 3,
     "metadata": {},
     "output_type": "execute_result"
    }
   ],
   "source": [
    "scipy.stats.norm.ppf(0.95)"
   ]
  },
  {
   "cell_type": "code",
   "execution_count": 4,
   "id": "e7a36eee",
   "metadata": {},
   "outputs": [],
   "source": [
    "def VaR(Position,sigma,Quantile):\n",
    "    return Position * sigma * scipy.stats.norm.ppf(Quantile)"
   ]
  },
  {
   "cell_type": "code",
   "execution_count": 5,
   "id": "2646263a",
   "metadata": {},
   "outputs": [
    {
     "data": {
      "text/plain": [
       "82.24268134757361"
      ]
     },
     "execution_count": 5,
     "metadata": {},
     "output_type": "execute_result"
    }
   ],
   "source": [
    "VaR(1000,0.05,0.95)"
   ]
  },
  {
   "cell_type": "code",
   "execution_count": 6,
   "id": "e083db75",
   "metadata": {},
   "outputs": [],
   "source": [
    "w1 = 0.5\n",
    "w2 = 0.5\n",
    "sigma1 = 0.07\n",
    "sigma2 = 0.03\n",
    "corr = 0.4"
   ]
  },
  {
   "cell_type": "code",
   "execution_count": 7,
   "id": "2f2a6e98",
   "metadata": {},
   "outputs": [],
   "source": [
    "pottfoliovar = w1**2*sigma1**2+w2**2*sigma2**2+2*(w1*w2*sigma1*sigma2*corr) "
   ]
  },
  {
   "cell_type": "code",
   "execution_count": 8,
   "id": "98059ebd",
   "metadata": {},
   "outputs": [],
   "source": [
    "portfoliovol = pottfoliovar**(1/2)"
   ]
  },
  {
   "cell_type": "code",
   "execution_count": 9,
   "id": "b6ecea77",
   "metadata": {},
   "outputs": [
    {
     "data": {
      "text/plain": [
       "0.043243496620879306"
      ]
     },
     "execution_count": 9,
     "metadata": {},
     "output_type": "execute_result"
    }
   ],
   "source": [
    "portfoliovol"
   ]
  },
  {
   "cell_type": "code",
   "execution_count": 10,
   "id": "e9c3c743",
   "metadata": {},
   "outputs": [
    {
     "data": {
      "text/plain": [
       "71.12922225891705"
      ]
     },
     "execution_count": 10,
     "metadata": {},
     "output_type": "execute_result"
    }
   ],
   "source": [
    "VaR(1000,portfoliovol,0.95)"
   ]
  },
  {
   "cell_type": "code",
   "execution_count": 11,
   "id": "715f4cab",
   "metadata": {},
   "outputs": [],
   "source": [
    "VaR1 = VaR(1000*w1,sigma1,0.95)\n",
    "VaR2 = VaR(1000*w2,sigma2,0.95)"
   ]
  },
  {
   "cell_type": "code",
   "execution_count": 12,
   "id": "a4a96066",
   "metadata": {},
   "outputs": [],
   "source": [
    "vector = np.array([VaR1, VaR2])"
   ]
  },
  {
   "cell_type": "code",
   "execution_count": 13,
   "id": "ff150f2a",
   "metadata": {},
   "outputs": [
    {
     "data": {
      "text/plain": [
       "array([57.56987694, 24.6728044 ])"
      ]
     },
     "execution_count": 13,
     "metadata": {},
     "output_type": "execute_result"
    }
   ],
   "source": [
    "vector"
   ]
  },
  {
   "cell_type": "code",
   "execution_count": 14,
   "id": "4a157607",
   "metadata": {},
   "outputs": [],
   "source": [
    "corrmatrix = np.array([[1,corr],[corr,1]])"
   ]
  },
  {
   "cell_type": "code",
   "execution_count": 15,
   "id": "03a83a0b",
   "metadata": {},
   "outputs": [
    {
     "data": {
      "text/plain": [
       "array([[1. , 0.4],\n",
       "       [0.4, 1. ]])"
      ]
     },
     "execution_count": 15,
     "metadata": {},
     "output_type": "execute_result"
    }
   ],
   "source": [
    "corrmatrix"
   ]
  },
  {
   "cell_type": "code",
   "execution_count": 16,
   "id": "8cc6d0f9",
   "metadata": {},
   "outputs": [
    {
     "data": {
      "text/plain": [
       "71.12922225891707"
      ]
     },
     "execution_count": 16,
     "metadata": {},
     "output_type": "execute_result"
    }
   ],
   "source": [
    "(np.dot(np.dot(vector,corrmatrix),vector))**(1/2)"
   ]
  },
  {
   "cell_type": "code",
   "execution_count": 17,
   "id": "800ae3ea",
   "metadata": {},
   "outputs": [],
   "source": [
    "import pandas_datareader.data as reader\n",
    "import datetime as dt"
   ]
  },
  {
   "cell_type": "code",
   "execution_count": 18,
   "id": "40b19375",
   "metadata": {},
   "outputs": [],
   "source": [
    "end = dt.datetime.now()\n",
    "start = dt.datetime(end.year - 1, end.month,end.day)"
   ]
  },
  {
   "cell_type": "code",
   "execution_count": 20,
   "id": "27d27982",
   "metadata": {},
   "outputs": [],
   "source": [
    "df = reader.get_data_yahoo(['AAPL', 'MSFT','TSLA'],start,end)['Adj Close']"
   ]
  },
  {
   "cell_type": "code",
   "execution_count": 21,
   "id": "00704b0c",
   "metadata": {},
   "outputs": [],
   "source": [
    "returns = np.log(1+ df.pct_change())"
   ]
  },
  {
   "cell_type": "code",
   "execution_count": 22,
   "id": "a5af7f46",
   "metadata": {},
   "outputs": [
    {
     "data": {
      "text/html": [
       "<div>\n",
       "<style scoped>\n",
       "    .dataframe tbody tr th:only-of-type {\n",
       "        vertical-align: middle;\n",
       "    }\n",
       "\n",
       "    .dataframe tbody tr th {\n",
       "        vertical-align: top;\n",
       "    }\n",
       "\n",
       "    .dataframe thead th {\n",
       "        text-align: right;\n",
       "    }\n",
       "</style>\n",
       "<table border=\"1\" class=\"dataframe\">\n",
       "  <thead>\n",
       "    <tr style=\"text-align: right;\">\n",
       "      <th>Symbols</th>\n",
       "      <th>AAPL</th>\n",
       "      <th>MSFT</th>\n",
       "      <th>TSLA</th>\n",
       "    </tr>\n",
       "    <tr>\n",
       "      <th>Date</th>\n",
       "      <th></th>\n",
       "      <th></th>\n",
       "      <th></th>\n",
       "    </tr>\n",
       "  </thead>\n",
       "  <tbody>\n",
       "    <tr>\n",
       "      <th>2020-11-25</th>\n",
       "      <td>NaN</td>\n",
       "      <td>NaN</td>\n",
       "      <td>NaN</td>\n",
       "    </tr>\n",
       "    <tr>\n",
       "      <th>2020-11-27</th>\n",
       "      <td>0.004815</td>\n",
       "      <td>0.006339</td>\n",
       "      <td>0.020281</td>\n",
       "    </tr>\n",
       "    <tr>\n",
       "      <th>2020-11-30</th>\n",
       "      <td>0.020880</td>\n",
       "      <td>-0.005404</td>\n",
       "      <td>-0.031493</td>\n",
       "    </tr>\n",
       "    <tr>\n",
       "      <th>2020-12-01</th>\n",
       "      <td>0.030362</td>\n",
       "      <td>0.009947</td>\n",
       "      <td>0.029785</td>\n",
       "    </tr>\n",
       "    <tr>\n",
       "      <th>2020-12-02</th>\n",
       "      <td>0.002929</td>\n",
       "      <td>-0.003893</td>\n",
       "      <td>-0.027637</td>\n",
       "    </tr>\n",
       "    <tr>\n",
       "      <th>...</th>\n",
       "      <td>...</td>\n",
       "      <td>...</td>\n",
       "      <td>...</td>\n",
       "    </tr>\n",
       "    <tr>\n",
       "      <th>2021-11-18</th>\n",
       "      <td>0.028136</td>\n",
       "      <td>0.006320</td>\n",
       "      <td>0.006745</td>\n",
       "    </tr>\n",
       "    <tr>\n",
       "      <th>2021-11-19</th>\n",
       "      <td>0.016834</td>\n",
       "      <td>0.005377</td>\n",
       "      <td>0.036432</td>\n",
       "    </tr>\n",
       "    <tr>\n",
       "      <th>2021-11-22</th>\n",
       "      <td>0.002923</td>\n",
       "      <td>-0.009606</td>\n",
       "      <td>0.017272</td>\n",
       "    </tr>\n",
       "    <tr>\n",
       "      <th>2021-11-23</th>\n",
       "      <td>0.002419</td>\n",
       "      <td>-0.006347</td>\n",
       "      <td>-0.042232</td>\n",
       "    </tr>\n",
       "    <tr>\n",
       "      <th>2021-11-24</th>\n",
       "      <td>0.003278</td>\n",
       "      <td>0.000681</td>\n",
       "      <td>0.006265</td>\n",
       "    </tr>\n",
       "  </tbody>\n",
       "</table>\n",
       "<p>252 rows × 3 columns</p>\n",
       "</div>"
      ],
      "text/plain": [
       "Symbols         AAPL      MSFT      TSLA\n",
       "Date                                    \n",
       "2020-11-25       NaN       NaN       NaN\n",
       "2020-11-27  0.004815  0.006339  0.020281\n",
       "2020-11-30  0.020880 -0.005404 -0.031493\n",
       "2020-12-01  0.030362  0.009947  0.029785\n",
       "2020-12-02  0.002929 -0.003893 -0.027637\n",
       "...              ...       ...       ...\n",
       "2021-11-18  0.028136  0.006320  0.006745\n",
       "2021-11-19  0.016834  0.005377  0.036432\n",
       "2021-11-22  0.002923 -0.009606  0.017272\n",
       "2021-11-23  0.002419 -0.006347 -0.042232\n",
       "2021-11-24  0.003278  0.000681  0.006265\n",
       "\n",
       "[252 rows x 3 columns]"
      ]
     },
     "execution_count": 22,
     "metadata": {},
     "output_type": "execute_result"
    }
   ],
   "source": [
    "returns"
   ]
  },
  {
   "cell_type": "code",
   "execution_count": 23,
   "id": "09ff2564",
   "metadata": {},
   "outputs": [
    {
     "data": {
      "text/plain": [
       "Symbols\n",
       "AAPL    0.015535\n",
       "MSFT    0.012436\n",
       "TSLA    0.034104\n",
       "dtype: float64"
      ]
     },
     "execution_count": 23,
     "metadata": {},
     "output_type": "execute_result"
    }
   ],
   "source": [
    "returns.std()"
   ]
  },
  {
   "cell_type": "code",
   "execution_count": 24,
   "id": "47257fe5",
   "metadata": {},
   "outputs": [],
   "source": [
    "Position = df.iloc[-1]"
   ]
  },
  {
   "cell_type": "code",
   "execution_count": 25,
   "id": "81245fea",
   "metadata": {},
   "outputs": [
    {
     "data": {
      "text/plain": [
       "Symbols\n",
       "AAPL     161.940002\n",
       "MSFT     337.910004\n",
       "TSLA    1116.000000\n",
       "Name: 2021-11-24 00:00:00, dtype: float64"
      ]
     },
     "execution_count": 25,
     "metadata": {},
     "output_type": "execute_result"
    }
   ],
   "source": [
    "Position"
   ]
  },
  {
   "cell_type": "code",
   "execution_count": 26,
   "id": "cf0b363a",
   "metadata": {},
   "outputs": [],
   "source": [
    "VaRarray = []\n",
    "for i in range(len(Position)):\n",
    "    VaRarray.append(VaR(Position[i],returns.std()[i],0.95))"
   ]
  },
  {
   "cell_type": "code",
   "execution_count": 28,
   "id": "58640c53",
   "metadata": {},
   "outputs": [
    {
     "data": {
      "text/plain": [
       "[4.137954897843889, 6.912021414236304, 62.60319829630334]"
      ]
     },
     "execution_count": 28,
     "metadata": {},
     "output_type": "execute_result"
    }
   ],
   "source": [
    "VaRarray"
   ]
  },
  {
   "cell_type": "code",
   "execution_count": 29,
   "id": "fd101e26",
   "metadata": {},
   "outputs": [],
   "source": [
    "vector = np.array(VaRarray)"
   ]
  },
  {
   "cell_type": "code",
   "execution_count": 30,
   "id": "3c0e2b73",
   "metadata": {},
   "outputs": [
    {
     "data": {
      "text/html": [
       "<div>\n",
       "<style scoped>\n",
       "    .dataframe tbody tr th:only-of-type {\n",
       "        vertical-align: middle;\n",
       "    }\n",
       "\n",
       "    .dataframe tbody tr th {\n",
       "        vertical-align: top;\n",
       "    }\n",
       "\n",
       "    .dataframe thead th {\n",
       "        text-align: right;\n",
       "    }\n",
       "</style>\n",
       "<table border=\"1\" class=\"dataframe\">\n",
       "  <thead>\n",
       "    <tr style=\"text-align: right;\">\n",
       "      <th>Symbols</th>\n",
       "      <th>AAPL</th>\n",
       "      <th>MSFT</th>\n",
       "      <th>TSLA</th>\n",
       "    </tr>\n",
       "    <tr>\n",
       "      <th>Symbols</th>\n",
       "      <th></th>\n",
       "      <th></th>\n",
       "      <th></th>\n",
       "    </tr>\n",
       "  </thead>\n",
       "  <tbody>\n",
       "    <tr>\n",
       "      <th>AAPL</th>\n",
       "      <td>1.000000</td>\n",
       "      <td>0.639177</td>\n",
       "      <td>0.368091</td>\n",
       "    </tr>\n",
       "    <tr>\n",
       "      <th>MSFT</th>\n",
       "      <td>0.639177</td>\n",
       "      <td>1.000000</td>\n",
       "      <td>0.312985</td>\n",
       "    </tr>\n",
       "    <tr>\n",
       "      <th>TSLA</th>\n",
       "      <td>0.368091</td>\n",
       "      <td>0.312985</td>\n",
       "      <td>1.000000</td>\n",
       "    </tr>\n",
       "  </tbody>\n",
       "</table>\n",
       "</div>"
      ],
      "text/plain": [
       "Symbols      AAPL      MSFT      TSLA\n",
       "Symbols                              \n",
       "AAPL     1.000000  0.639177  0.368091\n",
       "MSFT     0.639177  1.000000  0.312985\n",
       "TSLA     0.368091  0.312985  1.000000"
      ]
     },
     "execution_count": 30,
     "metadata": {},
     "output_type": "execute_result"
    }
   ],
   "source": [
    "returns.corr()"
   ]
  },
  {
   "cell_type": "code",
   "execution_count": 32,
   "id": "103e43e9",
   "metadata": {},
   "outputs": [
    {
     "data": {
      "text/plain": [
       "66.94920018307475"
      ]
     },
     "execution_count": 32,
     "metadata": {},
     "output_type": "execute_result"
    }
   ],
   "source": [
    "(np.dot(np.dot(vector,returns.corr()),vector))**(1/2)"
   ]
  },
  {
   "cell_type": "code",
   "execution_count": null,
   "id": "299fa1b1",
   "metadata": {},
   "outputs": [],
   "source": []
  }
 ],
 "metadata": {
  "kernelspec": {
   "display_name": "Python 3 (ipykernel)",
   "language": "python",
   "name": "python3"
  },
  "language_info": {
   "codemirror_mode": {
    "name": "ipython",
    "version": 3
   },
   "file_extension": ".py",
   "mimetype": "text/x-python",
   "name": "python",
   "nbconvert_exporter": "python",
   "pygments_lexer": "ipython3",
   "version": "3.9.5"
  }
 },
 "nbformat": 4,
 "nbformat_minor": 5
}
