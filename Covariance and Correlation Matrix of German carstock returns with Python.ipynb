{
 "cells": [
  {
   "cell_type": "code",
   "execution_count": 2,
   "id": "3afdaa60",
   "metadata": {},
   "outputs": [],
   "source": [
    "import pandas_datareader.data as reader\n",
    "import matplotlib.pyplot as plt\n",
    "import datetime as dt\n",
    "import seaborn as sns"
   ]
  },
  {
   "cell_type": "code",
   "execution_count": 16,
   "id": "830ff6bb",
   "metadata": {},
   "outputs": [],
   "source": [
    "end = dt.datetime.now()\n",
    "start = dt.date(end.year - 5,end.month,end.day)"
   ]
  },
  {
   "cell_type": "code",
   "execution_count": 17,
   "id": "5402c314",
   "metadata": {},
   "outputs": [],
   "source": [
    "portfolio = ['BMW.DE', 'DAI.DE', 'VOW3.DE', '^GDAXI', 'TSLA']"
   ]
  },
  {
   "cell_type": "code",
   "execution_count": 18,
   "id": "257acb0a",
   "metadata": {},
   "outputs": [],
   "source": [
    "df = reader.get_data_yahoo(portfolio,start,end)['Adj Close']"
   ]
  },
  {
   "cell_type": "code",
   "execution_count": 19,
   "id": "601043ea",
   "metadata": {},
   "outputs": [
    {
     "data": {
      "text/html": [
       "<div>\n",
       "<style scoped>\n",
       "    .dataframe tbody tr th:only-of-type {\n",
       "        vertical-align: middle;\n",
       "    }\n",
       "\n",
       "    .dataframe tbody tr th {\n",
       "        vertical-align: top;\n",
       "    }\n",
       "\n",
       "    .dataframe thead th {\n",
       "        text-align: right;\n",
       "    }\n",
       "</style>\n",
       "<table border=\"1\" class=\"dataframe\">\n",
       "  <thead>\n",
       "    <tr style=\"text-align: right;\">\n",
       "      <th>Symbols</th>\n",
       "      <th>BMW.DE</th>\n",
       "      <th>DAI.DE</th>\n",
       "      <th>VOW3.DE</th>\n",
       "      <th>^GDAXI</th>\n",
       "      <th>TSLA</th>\n",
       "    </tr>\n",
       "    <tr>\n",
       "      <th>Date</th>\n",
       "      <th></th>\n",
       "      <th></th>\n",
       "      <th></th>\n",
       "      <th></th>\n",
       "      <th></th>\n",
       "    </tr>\n",
       "  </thead>\n",
       "  <tbody>\n",
       "    <tr>\n",
       "      <th>2016-11-14</th>\n",
       "      <td>63.899036</td>\n",
       "      <td>50.822384</td>\n",
       "      <td>102.753593</td>\n",
       "      <td>10693.690430</td>\n",
       "      <td>36.290001</td>\n",
       "    </tr>\n",
       "    <tr>\n",
       "      <th>2016-11-15</th>\n",
       "      <td>64.412567</td>\n",
       "      <td>51.033886</td>\n",
       "      <td>104.070946</td>\n",
       "      <td>10735.139648</td>\n",
       "      <td>36.754002</td>\n",
       "    </tr>\n",
       "    <tr>\n",
       "      <th>2016-11-16</th>\n",
       "      <td>63.788429</td>\n",
       "      <td>50.759724</td>\n",
       "      <td>103.675751</td>\n",
       "      <td>10663.870117</td>\n",
       "      <td>36.785999</td>\n",
       "    </tr>\n",
       "    <tr>\n",
       "      <th>2016-11-17</th>\n",
       "      <td>63.535614</td>\n",
       "      <td>51.214050</td>\n",
       "      <td>103.236618</td>\n",
       "      <td>10685.540039</td>\n",
       "      <td>37.731998</td>\n",
       "    </tr>\n",
       "    <tr>\n",
       "      <th>2016-11-18</th>\n",
       "      <td>63.993847</td>\n",
       "      <td>51.120056</td>\n",
       "      <td>102.885323</td>\n",
       "      <td>10664.559570</td>\n",
       "      <td>37.004002</td>\n",
       "    </tr>\n",
       "    <tr>\n",
       "      <th>...</th>\n",
       "      <td>...</td>\n",
       "      <td>...</td>\n",
       "      <td>...</td>\n",
       "      <td>...</td>\n",
       "      <td>...</td>\n",
       "    </tr>\n",
       "    <tr>\n",
       "      <th>2021-11-08</th>\n",
       "      <td>91.089996</td>\n",
       "      <td>87.230003</td>\n",
       "      <td>187.520004</td>\n",
       "      <td>16046.519531</td>\n",
       "      <td>1162.939941</td>\n",
       "    </tr>\n",
       "    <tr>\n",
       "      <th>2021-11-09</th>\n",
       "      <td>90.660004</td>\n",
       "      <td>87.419998</td>\n",
       "      <td>185.720001</td>\n",
       "      <td>16040.469727</td>\n",
       "      <td>1023.500000</td>\n",
       "    </tr>\n",
       "    <tr>\n",
       "      <th>2021-11-10</th>\n",
       "      <td>91.760002</td>\n",
       "      <td>88.089996</td>\n",
       "      <td>185.600006</td>\n",
       "      <td>16067.830078</td>\n",
       "      <td>1067.949951</td>\n",
       "    </tr>\n",
       "    <tr>\n",
       "      <th>2021-11-11</th>\n",
       "      <td>92.330002</td>\n",
       "      <td>87.360001</td>\n",
       "      <td>185.720001</td>\n",
       "      <td>16083.110352</td>\n",
       "      <td>1063.510010</td>\n",
       "    </tr>\n",
       "    <tr>\n",
       "      <th>2021-11-12</th>\n",
       "      <td>93.019997</td>\n",
       "      <td>87.889999</td>\n",
       "      <td>188.000000</td>\n",
       "      <td>16094.070312</td>\n",
       "      <td>1033.420044</td>\n",
       "    </tr>\n",
       "  </tbody>\n",
       "</table>\n",
       "<p>1291 rows × 5 columns</p>\n",
       "</div>"
      ],
      "text/plain": [
       "Symbols        BMW.DE     DAI.DE     VOW3.DE        ^GDAXI         TSLA\n",
       "Date                                                                   \n",
       "2016-11-14  63.899036  50.822384  102.753593  10693.690430    36.290001\n",
       "2016-11-15  64.412567  51.033886  104.070946  10735.139648    36.754002\n",
       "2016-11-16  63.788429  50.759724  103.675751  10663.870117    36.785999\n",
       "2016-11-17  63.535614  51.214050  103.236618  10685.540039    37.731998\n",
       "2016-11-18  63.993847  51.120056  102.885323  10664.559570    37.004002\n",
       "...               ...        ...         ...           ...          ...\n",
       "2021-11-08  91.089996  87.230003  187.520004  16046.519531  1162.939941\n",
       "2021-11-09  90.660004  87.419998  185.720001  16040.469727  1023.500000\n",
       "2021-11-10  91.760002  88.089996  185.600006  16067.830078  1067.949951\n",
       "2021-11-11  92.330002  87.360001  185.720001  16083.110352  1063.510010\n",
       "2021-11-12  93.019997  87.889999  188.000000  16094.070312  1033.420044\n",
       "\n",
       "[1291 rows x 5 columns]"
      ]
     },
     "execution_count": 19,
     "metadata": {},
     "output_type": "execute_result"
    }
   ],
   "source": [
    "df"
   ]
  },
  {
   "cell_type": "code",
   "execution_count": 20,
   "id": "911344a3",
   "metadata": {},
   "outputs": [],
   "source": [
    "returns = df.pct_change()"
   ]
  },
  {
   "cell_type": "code",
   "execution_count": 21,
   "id": "6d314b2a",
   "metadata": {},
   "outputs": [
    {
     "data": {
      "text/html": [
       "<div>\n",
       "<style scoped>\n",
       "    .dataframe tbody tr th:only-of-type {\n",
       "        vertical-align: middle;\n",
       "    }\n",
       "\n",
       "    .dataframe tbody tr th {\n",
       "        vertical-align: top;\n",
       "    }\n",
       "\n",
       "    .dataframe thead th {\n",
       "        text-align: right;\n",
       "    }\n",
       "</style>\n",
       "<table border=\"1\" class=\"dataframe\">\n",
       "  <thead>\n",
       "    <tr style=\"text-align: right;\">\n",
       "      <th>Symbols</th>\n",
       "      <th>BMW.DE</th>\n",
       "      <th>DAI.DE</th>\n",
       "      <th>VOW3.DE</th>\n",
       "      <th>^GDAXI</th>\n",
       "      <th>TSLA</th>\n",
       "    </tr>\n",
       "    <tr>\n",
       "      <th>Symbols</th>\n",
       "      <th></th>\n",
       "      <th></th>\n",
       "      <th></th>\n",
       "      <th></th>\n",
       "      <th></th>\n",
       "    </tr>\n",
       "  </thead>\n",
       "  <tbody>\n",
       "    <tr>\n",
       "      <th>BMW.DE</th>\n",
       "      <td>0.000290</td>\n",
       "      <td>0.000293</td>\n",
       "      <td>0.000288</td>\n",
       "      <td>0.000158</td>\n",
       "      <td>0.000133</td>\n",
       "    </tr>\n",
       "    <tr>\n",
       "      <th>DAI.DE</th>\n",
       "      <td>0.000293</td>\n",
       "      <td>0.000426</td>\n",
       "      <td>0.000339</td>\n",
       "      <td>0.000201</td>\n",
       "      <td>0.000179</td>\n",
       "    </tr>\n",
       "    <tr>\n",
       "      <th>VOW3.DE</th>\n",
       "      <td>0.000288</td>\n",
       "      <td>0.000339</td>\n",
       "      <td>0.000444</td>\n",
       "      <td>0.000190</td>\n",
       "      <td>0.000189</td>\n",
       "    </tr>\n",
       "    <tr>\n",
       "      <th>^GDAXI</th>\n",
       "      <td>0.000158</td>\n",
       "      <td>0.000201</td>\n",
       "      <td>0.000190</td>\n",
       "      <td>0.000141</td>\n",
       "      <td>0.000126</td>\n",
       "    </tr>\n",
       "    <tr>\n",
       "      <th>TSLA</th>\n",
       "      <td>0.000133</td>\n",
       "      <td>0.000179</td>\n",
       "      <td>0.000189</td>\n",
       "      <td>0.000126</td>\n",
       "      <td>0.001388</td>\n",
       "    </tr>\n",
       "  </tbody>\n",
       "</table>\n",
       "</div>"
      ],
      "text/plain": [
       "Symbols    BMW.DE    DAI.DE   VOW3.DE    ^GDAXI      TSLA\n",
       "Symbols                                                  \n",
       "BMW.DE   0.000290  0.000293  0.000288  0.000158  0.000133\n",
       "DAI.DE   0.000293  0.000426  0.000339  0.000201  0.000179\n",
       "VOW3.DE  0.000288  0.000339  0.000444  0.000190  0.000189\n",
       "^GDAXI   0.000158  0.000201  0.000190  0.000141  0.000126\n",
       "TSLA     0.000133  0.000179  0.000189  0.000126  0.001388"
      ]
     },
     "execution_count": 21,
     "metadata": {},
     "output_type": "execute_result"
    }
   ],
   "source": [
    "returns.cov()"
   ]
  },
  {
   "cell_type": "code",
   "execution_count": 22,
   "id": "0f5cd24e",
   "metadata": {},
   "outputs": [
    {
     "data": {
      "text/plain": [
       "Symbols\n",
       "BMW.DE     0.000290\n",
       "DAI.DE     0.000426\n",
       "VOW3.DE    0.000444\n",
       "^GDAXI     0.000141\n",
       "TSLA       0.001388\n",
       "dtype: float64"
      ]
     },
     "execution_count": 22,
     "metadata": {},
     "output_type": "execute_result"
    }
   ],
   "source": [
    "returns.var()"
   ]
  },
  {
   "cell_type": "code",
   "execution_count": 23,
   "id": "51dd2f47",
   "metadata": {},
   "outputs": [
    {
     "data": {
      "text/html": [
       "<div>\n",
       "<style scoped>\n",
       "    .dataframe tbody tr th:only-of-type {\n",
       "        vertical-align: middle;\n",
       "    }\n",
       "\n",
       "    .dataframe tbody tr th {\n",
       "        vertical-align: top;\n",
       "    }\n",
       "\n",
       "    .dataframe thead th {\n",
       "        text-align: right;\n",
       "    }\n",
       "</style>\n",
       "<table border=\"1\" class=\"dataframe\">\n",
       "  <thead>\n",
       "    <tr style=\"text-align: right;\">\n",
       "      <th>Symbols</th>\n",
       "      <th>BMW.DE</th>\n",
       "      <th>DAI.DE</th>\n",
       "      <th>VOW3.DE</th>\n",
       "      <th>^GDAXI</th>\n",
       "      <th>TSLA</th>\n",
       "    </tr>\n",
       "    <tr>\n",
       "      <th>Symbols</th>\n",
       "      <th></th>\n",
       "      <th></th>\n",
       "      <th></th>\n",
       "      <th></th>\n",
       "      <th></th>\n",
       "    </tr>\n",
       "  </thead>\n",
       "  <tbody>\n",
       "    <tr>\n",
       "      <th>BMW.DE</th>\n",
       "      <td>1.000000</td>\n",
       "      <td>0.834589</td>\n",
       "      <td>0.804124</td>\n",
       "      <td>0.781631</td>\n",
       "      <td>0.209991</td>\n",
       "    </tr>\n",
       "    <tr>\n",
       "      <th>DAI.DE</th>\n",
       "      <td>0.834589</td>\n",
       "      <td>1.000000</td>\n",
       "      <td>0.778631</td>\n",
       "      <td>0.820690</td>\n",
       "      <td>0.233186</td>\n",
       "    </tr>\n",
       "    <tr>\n",
       "      <th>VOW3.DE</th>\n",
       "      <td>0.804124</td>\n",
       "      <td>0.778631</td>\n",
       "      <td>1.000000</td>\n",
       "      <td>0.761133</td>\n",
       "      <td>0.240546</td>\n",
       "    </tr>\n",
       "    <tr>\n",
       "      <th>^GDAXI</th>\n",
       "      <td>0.781631</td>\n",
       "      <td>0.820690</td>\n",
       "      <td>0.761133</td>\n",
       "      <td>1.000000</td>\n",
       "      <td>0.284944</td>\n",
       "    </tr>\n",
       "    <tr>\n",
       "      <th>TSLA</th>\n",
       "      <td>0.209991</td>\n",
       "      <td>0.233186</td>\n",
       "      <td>0.240546</td>\n",
       "      <td>0.284944</td>\n",
       "      <td>1.000000</td>\n",
       "    </tr>\n",
       "  </tbody>\n",
       "</table>\n",
       "</div>"
      ],
      "text/plain": [
       "Symbols    BMW.DE    DAI.DE   VOW3.DE    ^GDAXI      TSLA\n",
       "Symbols                                                  \n",
       "BMW.DE   1.000000  0.834589  0.804124  0.781631  0.209991\n",
       "DAI.DE   0.834589  1.000000  0.778631  0.820690  0.233186\n",
       "VOW3.DE  0.804124  0.778631  1.000000  0.761133  0.240546\n",
       "^GDAXI   0.781631  0.820690  0.761133  1.000000  0.284944\n",
       "TSLA     0.209991  0.233186  0.240546  0.284944  1.000000"
      ]
     },
     "execution_count": 23,
     "metadata": {},
     "output_type": "execute_result"
    }
   ],
   "source": [
    "returns.corr()"
   ]
  },
  {
   "cell_type": "code",
   "execution_count": 24,
   "id": "eb23d0b2",
   "metadata": {},
   "outputs": [
    {
     "data": {
      "text/plain": [
       "<AxesSubplot:xlabel='Symbols', ylabel='Symbols'>"
      ]
     },
     "execution_count": 24,
     "metadata": {},
     "output_type": "execute_result"
    },
    {
     "data": {
      "image/png": "[encoded data removed]",
      "text/plain": [
       "<Figure size 432x288 with 2 Axes>"
      ]
     },
     "metadata": {
      "needs_background": "light"
     },
     "output_type": "display_data"
    }
   ],
   "source": [
    "sns.heatmap(returns.corr())"
   ]
  },
  {
   "cell_type": "code",
   "execution_count": null,
   "id": "70f708eb",
   "metadata": {},
   "outputs": [],
   "source": []
  }
 ],
 "metadata": {
  "kernelspec": {
   "display_name": "Python 3 (ipykernel)",
   "language": "python",
   "name": "python3"
  },
  "language_info": {
   "codemirror_mode": {
    "name": "ipython",
    "version": 3
   },
   "file_extension": ".py",
   "mimetype": "text/x-python",
   "name": "python",
   "nbconvert_exporter": "python",
   "pygments_lexer": "ipython3",
   "version": "3.8.8"
  }
 },
 "nbformat": 4,
 "nbformat_minor": 5
}
