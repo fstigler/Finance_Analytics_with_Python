{
 "cells": [
  {
   "cell_type": "code",
   "execution_count": 1,
   "id": "e9e17851",
   "metadata": {},
   "outputs": [],
   "source": [
    "import yfinance as yf\n",
    "import pandas as pd\n",
    "import datetime as dt"
   ]
  },
  {
   "cell_type": "code",
   "execution_count": 2,
   "id": "399a3bf9",
   "metadata": {},
   "outputs": [],
   "source": [
    "asset = 'TSLA'"
   ]
  },
  {
   "cell_type": "code",
   "execution_count": 4,
   "id": "e3fca36d",
   "metadata": {},
   "outputs": [
    {
     "name": "stdout",
     "output_type": "stream",
     "text": [
      "[*********************100%***********************]  1 of 1 completed\n"
     ]
    }
   ],
   "source": [
    "intraday = yf.download(asset,start='2021-11-01', end='2021-11-02', interval='1m')"
   ]
  },
  {
   "cell_type": "code",
   "execution_count": 5,
   "id": "4e481d3b",
   "metadata": {},
   "outputs": [
    {
     "data": {
      "text/html": [
       "<div>\n",
       "<style scoped>\n",
       "    .dataframe tbody tr th:only-of-type {\n",
       "        vertical-align: middle;\n",
       "    }\n",
       "\n",
       "    .dataframe tbody tr th {\n",
       "        vertical-align: top;\n",
       "    }\n",
       "\n",
       "    .dataframe thead th {\n",
       "        text-align: right;\n",
       "    }\n",
       "</style>\n",
       "<table border=\"1\" class=\"dataframe\">\n",
       "  <thead>\n",
       "    <tr style=\"text-align: right;\">\n",
       "      <th></th>\n",
       "      <th>Open</th>\n",
       "      <th>High</th>\n",
       "      <th>Low</th>\n",
       "      <th>Close</th>\n",
       "      <th>Adj Close</th>\n",
       "      <th>Volume</th>\n",
       "    </tr>\n",
       "    <tr>\n",
       "      <th>Datetime</th>\n",
       "      <th></th>\n",
       "      <th></th>\n",
       "      <th></th>\n",
       "      <th></th>\n",
       "      <th></th>\n",
       "      <th></th>\n",
       "    </tr>\n",
       "  </thead>\n",
       "  <tbody>\n",
       "    <tr>\n",
       "      <th>2021-11-01 09:30:00-04:00</th>\n",
       "      <td>1145.000000</td>\n",
       "      <td>1150.000000</td>\n",
       "      <td>1140.930054</td>\n",
       "      <td>1149.989990</td>\n",
       "      <td>1149.989990</td>\n",
       "      <td>2916788</td>\n",
       "    </tr>\n",
       "    <tr>\n",
       "      <th>2021-11-01 09:31:00-04:00</th>\n",
       "      <td>1150.000000</td>\n",
       "      <td>1150.000000</td>\n",
       "      <td>1138.380005</td>\n",
       "      <td>1138.439941</td>\n",
       "      <td>1138.439941</td>\n",
       "      <td>361907</td>\n",
       "    </tr>\n",
       "    <tr>\n",
       "      <th>2021-11-01 09:32:00-04:00</th>\n",
       "      <td>1138.637207</td>\n",
       "      <td>1139.619995</td>\n",
       "      <td>1134.586060</td>\n",
       "      <td>1138.312012</td>\n",
       "      <td>1138.312012</td>\n",
       "      <td>359570</td>\n",
       "    </tr>\n",
       "    <tr>\n",
       "      <th>2021-11-01 09:33:00-04:00</th>\n",
       "      <td>1138.839966</td>\n",
       "      <td>1139.900024</td>\n",
       "      <td>1134.880005</td>\n",
       "      <td>1138.859985</td>\n",
       "      <td>1138.859985</td>\n",
       "      <td>258971</td>\n",
       "    </tr>\n",
       "    <tr>\n",
       "      <th>2021-11-01 09:34:00-04:00</th>\n",
       "      <td>1138.724976</td>\n",
       "      <td>1138.939941</td>\n",
       "      <td>1131.194946</td>\n",
       "      <td>1133.107666</td>\n",
       "      <td>1133.107666</td>\n",
       "      <td>357989</td>\n",
       "    </tr>\n",
       "    <tr>\n",
       "      <th>...</th>\n",
       "      <td>...</td>\n",
       "      <td>...</td>\n",
       "      <td>...</td>\n",
       "      <td>...</td>\n",
       "      <td>...</td>\n",
       "      <td>...</td>\n",
       "    </tr>\n",
       "    <tr>\n",
       "      <th>2021-11-01 15:55:00-04:00</th>\n",
       "      <td>1199.449951</td>\n",
       "      <td>1203.550049</td>\n",
       "      <td>1199.430054</td>\n",
       "      <td>1203.219971</td>\n",
       "      <td>1203.219971</td>\n",
       "      <td>411598</td>\n",
       "    </tr>\n",
       "    <tr>\n",
       "      <th>2021-11-01 15:56:00-04:00</th>\n",
       "      <td>1202.864990</td>\n",
       "      <td>1206.939941</td>\n",
       "      <td>1201.540039</td>\n",
       "      <td>1206.444946</td>\n",
       "      <td>1206.444946</td>\n",
       "      <td>346950</td>\n",
       "    </tr>\n",
       "    <tr>\n",
       "      <th>2021-11-01 15:57:00-04:00</th>\n",
       "      <td>1206.423950</td>\n",
       "      <td>1207.719971</td>\n",
       "      <td>1204.849976</td>\n",
       "      <td>1206.959961</td>\n",
       "      <td>1206.959961</td>\n",
       "      <td>384263</td>\n",
       "    </tr>\n",
       "    <tr>\n",
       "      <th>2021-11-01 15:58:00-04:00</th>\n",
       "      <td>1206.920044</td>\n",
       "      <td>1208.879883</td>\n",
       "      <td>1206.510010</td>\n",
       "      <td>1208.219971</td>\n",
       "      <td>1208.219971</td>\n",
       "      <td>393946</td>\n",
       "    </tr>\n",
       "    <tr>\n",
       "      <th>2021-11-01 15:59:00-04:00</th>\n",
       "      <td>1208.050049</td>\n",
       "      <td>1209.750000</td>\n",
       "      <td>1207.310059</td>\n",
       "      <td>1209.469971</td>\n",
       "      <td>1209.469971</td>\n",
       "      <td>537964</td>\n",
       "    </tr>\n",
       "  </tbody>\n",
       "</table>\n",
       "<p>388 rows × 6 columns</p>\n",
       "</div>"
      ],
      "text/plain": [
       "                                  Open         High          Low        Close  \\\n",
       "Datetime                                                                        \n",
       "2021-11-01 09:30:00-04:00  1145.000000  1150.000000  1140.930054  1149.989990   \n",
       "2021-11-01 09:31:00-04:00  1150.000000  1150.000000  1138.380005  1138.439941   \n",
       "2021-11-01 09:32:00-04:00  1138.637207  1139.619995  1134.586060  1138.312012   \n",
       "2021-11-01 09:33:00-04:00  1138.839966  1139.900024  1134.880005  1138.859985   \n",
       "2021-11-01 09:34:00-04:00  1138.724976  1138.939941  1131.194946  1133.107666   \n",
       "...                                ...          ...          ...          ...   \n",
       "2021-11-01 15:55:00-04:00  1199.449951  1203.550049  1199.430054  1203.219971   \n",
       "2021-11-01 15:56:00-04:00  1202.864990  1206.939941  1201.540039  1206.444946   \n",
       "2021-11-01 15:57:00-04:00  1206.423950  1207.719971  1204.849976  1206.959961   \n",
       "2021-11-01 15:58:00-04:00  1206.920044  1208.879883  1206.510010  1208.219971   \n",
       "2021-11-01 15:59:00-04:00  1208.050049  1209.750000  1207.310059  1209.469971   \n",
       "\n",
       "                             Adj Close   Volume  \n",
       "Datetime                                         \n",
       "2021-11-01 09:30:00-04:00  1149.989990  2916788  \n",
       "2021-11-01 09:31:00-04:00  1138.439941   361907  \n",
       "2021-11-01 09:32:00-04:00  1138.312012   359570  \n",
       "2021-11-01 09:33:00-04:00  1138.859985   258971  \n",
       "2021-11-01 09:34:00-04:00  1133.107666   357989  \n",
       "...                                ...      ...  \n",
       "2021-11-01 15:55:00-04:00  1203.219971   411598  \n",
       "2021-11-01 15:56:00-04:00  1206.444946   346950  \n",
       "2021-11-01 15:57:00-04:00  1206.959961   384263  \n",
       "2021-11-01 15:58:00-04:00  1208.219971   393946  \n",
       "2021-11-01 15:59:00-04:00  1209.469971   537964  \n",
       "\n",
       "[388 rows x 6 columns]"
      ]
     },
     "execution_count": 5,
     "metadata": {},
     "output_type": "execute_result"
    }
   ],
   "source": [
    "intraday"
   ]
  },
  {
   "cell_type": "code",
   "execution_count": 15,
   "id": "27fc8379",
   "metadata": {},
   "outputs": [],
   "source": [
    "def Intradaytrend(df, entry, exit):\n",
    "    ret_120min = df.iloc[120].Open/df.iloc[0].Open - 1\n",
    "    tickret = df.Open.pct_change()\n",
    "    if ret_120min > entry:\n",
    "        buyprice = df.iloc[121].Open\n",
    "        buytime = df.iloc[121].name\n",
    "        cumulated = (tickret.loc[buytime:] + 1).cumprod() - 1\n",
    "        exittime = cumulated[(cumulated < -exit) | (cumulated > exit)].first_valid_index()\n",
    "        if exittime == None:\n",
    "            exitprice = df.iloc[-1].Open\n",
    "        else: \n",
    "            exitprice = df.loc[exittime + dt.timedelta(minutes=1)].Open\n",
    "        profit = exitprice - buyprice\n",
    "        profitrel = profit/buyprice\n",
    "        return profitrel\n",
    "    else: \n",
    "        return None"
   ]
  },
  {
   "cell_type": "code",
   "execution_count": 17,
   "id": "85377388",
   "metadata": {},
   "outputs": [
    {
     "data": {
      "text/plain": [
       "0.011327892083682628"
      ]
     },
     "execution_count": 17,
     "metadata": {},
     "output_type": "execute_result"
    }
   ],
   "source": [
    "Intradaytrend(intraday, 0.01, 0.01)"
   ]
  },
  {
   "cell_type": "code",
   "execution_count": 26,
   "id": "26aae147",
   "metadata": {},
   "outputs": [
    {
     "name": "stdout",
     "output_type": "stream",
     "text": [
      "[*********************100%***********************]  1 of 1 completed\n"
     ]
    }
   ],
   "source": [
    "datesframe = yf.download(asset, start ='2021-11-01', end='2021-11-21')"
   ]
  },
  {
   "cell_type": "code",
   "execution_count": 27,
   "id": "5773aa54",
   "metadata": {},
   "outputs": [
    {
     "data": {
      "text/plain": [
       "DatetimeIndex(['2021-11-01', '2021-11-02', '2021-11-03', '2021-11-04',\n",
       "               '2021-11-05', '2021-11-08', '2021-11-09', '2021-11-10',\n",
       "               '2021-11-11', '2021-11-12', '2021-11-15', '2021-11-16',\n",
       "               '2021-11-17', '2021-11-18', '2021-11-19'],\n",
       "              dtype='datetime64[ns]', name='Date', freq=None)"
      ]
     },
     "execution_count": 27,
     "metadata": {},
     "output_type": "execute_result"
    }
   ],
   "source": [
    "datesframe.index"
   ]
  },
  {
   "cell_type": "code",
   "execution_count": 28,
   "id": "3e43f5b1",
   "metadata": {},
   "outputs": [
    {
     "name": "stdout",
     "output_type": "stream",
     "text": [
      "[*********************100%***********************]  1 of 1 completed\n",
      "[*********************100%***********************]  1 of 1 completed\n",
      "[*********************100%***********************]  1 of 1 completed\n",
      "[*********************100%***********************]  1 of 1 completed\n",
      "[*********************100%***********************]  1 of 1 completed\n",
      "[*********************100%***********************]  1 of 1 completed\n",
      "[*********************100%***********************]  1 of 1 completed\n",
      "[*********************100%***********************]  1 of 1 completed\n",
      "[*********************100%***********************]  1 of 1 completed\n",
      "[*********************100%***********************]  1 of 1 completed\n",
      "[*********************100%***********************]  1 of 1 completed\n",
      "[*********************100%***********************]  1 of 1 completed\n",
      "[*********************100%***********************]  1 of 1 completed\n",
      "[*********************100%***********************]  1 of 1 completed\n",
      "[*********************100%***********************]  1 of 1 completed\n"
     ]
    }
   ],
   "source": [
    "frames = []\n",
    "\n",
    "for i in datesframe.index:\n",
    "    frames.append(yf.download(asset, start=i, end= i + dt.timedelta(days=1),interval ='1m'))\n",
    "\n"
   ]
  },
  {
   "cell_type": "code",
   "execution_count": 41,
   "id": "6aa9a34f",
   "metadata": {},
   "outputs": [],
   "source": [
    "returns = []\n",
    "\n",
    "for i in frames:\n",
    "    returns.append(Intradaytrend(i, 0.01, 0.02))"
   ]
  },
  {
   "cell_type": "code",
   "execution_count": 42,
   "id": "5141fee8",
   "metadata": {},
   "outputs": [
    {
     "data": {
      "text/plain": [
       "[0.024681677634687555,\n",
       " -0.01604753423190458,\n",
       " None,\n",
       " None,\n",
       " None,\n",
       " -0.021035168078512332,\n",
       " None,\n",
       " -0.02446837950087822,\n",
       " None,\n",
       " None,\n",
       " None,\n",
       " 0.009545712720914408,\n",
       " -0.019523950406091856,\n",
       " None,\n",
       " None]"
      ]
     },
     "execution_count": 42,
     "metadata": {},
     "output_type": "execute_result"
    }
   ],
   "source": [
    "returns"
   ]
  },
  {
   "cell_type": "code",
   "execution_count": 43,
   "id": "ca773d68",
   "metadata": {},
   "outputs": [
    {
     "data": {
      "text/plain": [
       "0   -0.007808\n",
       "dtype: float64"
      ]
     },
     "execution_count": 43,
     "metadata": {},
     "output_type": "execute_result"
    }
   ],
   "source": [
    "pd.DataFrame(returns).mean()"
   ]
  },
  {
   "cell_type": "code",
   "execution_count": null,
   "id": "5a5bb5d4",
   "metadata": {},
   "outputs": [],
   "source": []
  }
 ],
 "metadata": {
  "kernelspec": {
   "display_name": "Python 3 (ipykernel)",
   "language": "python",
   "name": "python3"
  },
  "language_info": {
   "codemirror_mode": {
    "name": "ipython",
    "version": 3
   },
   "file_extension": ".py",
   "mimetype": "text/x-python",
   "name": "python",
   "nbconvert_exporter": "python",
   "pygments_lexer": "ipython3",
   "version": "3.8.8"
  }
 },
 "nbformat": 4,
 "nbformat_minor": 5
}
