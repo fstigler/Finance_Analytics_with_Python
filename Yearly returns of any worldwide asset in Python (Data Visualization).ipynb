{
 "cells": [
  {
   "cell_type": "code",
   "execution_count": 48,
   "id": "ff8d4bef",
   "metadata": {},
   "outputs": [],
   "source": [
    "import pandas_datareader.data as reader\n",
    "import datetime as dt\n",
    "import matplotlib.pyplot as plt\n",
    "import numpy as np\n",
    "import yfinance as yf"
   ]
  },
  {
   "cell_type": "code",
   "execution_count": 51,
   "id": "25854258",
   "metadata": {},
   "outputs": [],
   "source": [
    "end = dt.datetime.now()\n",
    "start = dt.datetime(end.year -10, end.month, end.day)"
   ]
  },
  {
   "cell_type": "code",
   "execution_count": 52,
   "id": "a590d264",
   "metadata": {},
   "outputs": [
    {
     "data": {
      "image/png": "[encoded data removed]",
      "text/plain": [
       "<Figure size 432x288 with 1 Axes>"
      ]
     },
     "metadata": {
      "needs_background": "light"
     },
     "output_type": "display_data"
    }
   ],
   "source": [
    "Asset = '^GDAXI'\n",
    "name = yf.Ticker(Asset).info['shortName']\n",
    "\n",
    "prices = reader.get_data_yahoo(Asset,start,end)['Adj Close']\n",
    "returns = prices.pct_change().resample('Y').agg(lambda x: (x+1).prod() -1)\n",
    "df_ret = returns.reset_index()\n",
    "\n",
    "plt.bar(df_ret.Date.dt.year,df_ret['Adj Close'], \n",
    "        color= (df_ret['Adj Close'] >0).map({True:'green',False:'red'}),edgecolor='k')\n",
    "plt.axhline(0,color='grey')\n",
    "plt.title(f'Yearly returns of {name}')\n",
    "plt.xticks(np.arange(min(df_ret.Date.dt.year),max(df_ret.Date.dt.year)+ 1, 1))\n",
    "plt.show()"
   ]
  },
  {
   "cell_type": "code",
   "execution_count": null,
   "id": "a875feda",
   "metadata": {},
   "outputs": [],
   "source": []
  }
 ],
 "metadata": {
  "kernelspec": {
   "display_name": "Python 3 (ipykernel)",
   "language": "python",
   "name": "python3"
  },
  "language_info": {
   "codemirror_mode": {
    "name": "ipython",
    "version": 3
   },
   "file_extension": ".py",
   "mimetype": "text/x-python",
   "name": "python",
   "nbconvert_exporter": "python",
   "pygments_lexer": "ipython3",
   "version": "3.8.8"
  }
 },
 "nbformat": 4,
 "nbformat_minor": 5
}
